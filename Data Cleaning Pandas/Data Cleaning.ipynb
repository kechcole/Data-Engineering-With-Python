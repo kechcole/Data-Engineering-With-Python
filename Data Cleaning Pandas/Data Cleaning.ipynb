{
 "cells": [
  {
   "cell_type": "markdown",
   "metadata": {},
   "source": [
    " # DATA CLEANING WITH PANDAS\n",
    "\n",
    "\n",
    " Data source - https://data.cityofnewyork.us/Environment/2015-Street-Tree-Census-Tree-Data/uvpi-gqnh/about_data\n",
    "\n",
    "Handling pandas dataframe - https://sparkbyexamples.com/pandas/how-to-count-duplicates-in-pandas-dataframe/\n"
   ]
  },
  {
   "cell_type": "code",
   "execution_count": 1,
   "metadata": {},
   "outputs": [
    {
     "name": "stdout",
     "output_type": "stream",
     "text": [
      "Requirement already satisfied: pandas in c:\\users\\admin\\appdata\\local\\programs\\python\\python312\\lib\\site-packages (2.2.1)Note: you may need to restart the kernel to use updated packages.\n",
      "\n",
      "Requirement already satisfied: numpy<2,>=1.26.0 in c:\\users\\admin\\appdata\\local\\programs\\python\\python312\\lib\\site-packages (from pandas) (1.26.4)\n",
      "Requirement already satisfied: python-dateutil>=2.8.2 in c:\\users\\admin\\appdata\\roaming\\python\\python312\\site-packages (from pandas) (2.9.0.post0)\n",
      "Requirement already satisfied: pytz>=2020.1 in c:\\users\\admin\\appdata\\local\\programs\\python\\python312\\lib\\site-packages (from pandas) (2024.1)\n",
      "Requirement already satisfied: tzdata>=2022.7 in c:\\users\\admin\\appdata\\local\\programs\\python\\python312\\lib\\site-packages (from pandas) (2024.1)\n",
      "Requirement already satisfied: six>=1.5 in c:\\users\\admin\\appdata\\roaming\\python\\python312\\site-packages (from python-dateutil>=2.8.2->pandas) (1.16.0)\n",
      "Requirement already satisfied: matplotlib in c:\\users\\admin\\appdata\\local\\programs\\python\\python312\\lib\\site-packages (3.8.3)\n",
      "Requirement already satisfied: contourpy>=1.0.1 in c:\\users\\admin\\appdata\\local\\programs\\python\\python312\\lib\\site-packages (from matplotlib) (1.2.0)\n",
      "Requirement already satisfied: cycler>=0.10 in c:\\users\\admin\\appdata\\local\\programs\\python\\python312\\lib\\site-packages (from matplotlib) (0.12.1)\n",
      "Requirement already satisfied: fonttools>=4.22.0 in c:\\users\\admin\\appdata\\local\\programs\\python\\python312\\lib\\site-packages (from matplotlib) (4.49.0)\n",
      "Requirement already satisfied: kiwisolver>=1.3.1 in c:\\users\\admin\\appdata\\local\\programs\\python\\python312\\lib\\site-packages (from matplotlib) (1.4.5)\n",
      "Requirement already satisfied: numpy<2,>=1.21 in c:\\users\\admin\\appdata\\local\\programs\\python\\python312\\lib\\site-packages (from matplotlib) (1.26.4)\n",
      "Requirement already satisfied: packaging>=20.0 in c:\\users\\admin\\appdata\\roaming\\python\\python312\\site-packages (from matplotlib) (24.0)\n",
      "Requirement already satisfied: pillow>=8 in c:\\users\\admin\\appdata\\local\\programs\\python\\python312\\lib\\site-packages (from matplotlib) (10.2.0)\n",
      "Requirement already satisfied: pyparsing>=2.3.1 in c:\\users\\admin\\appdata\\local\\programs\\python\\python312\\lib\\site-packages (from matplotlib) (3.1.2)\n",
      "Requirement already satisfied: python-dateutil>=2.7 in c:\\users\\admin\\appdata\\roaming\\python\\python312\\site-packages (from matplotlib) (2.9.0.post0)\n",
      "Requirement already satisfied: six>=1.5 in c:\\users\\admin\\appdata\\roaming\\python\\python312\\site-packages (from python-dateutil>=2.7->matplotlib) (1.16.0)\n",
      "Note: you may need to restart the kernel to use updated packages.\n",
      "Requirement already satisfied: seaborn in c:\\users\\admin\\appdata\\local\\programs\\python\\python312\\lib\\site-packages (0.13.2)\n",
      "Requirement already satisfied: numpy!=1.24.0,>=1.20 in c:\\users\\admin\\appdata\\local\\programs\\python\\python312\\lib\\site-packages (from seaborn) (1.26.4)\n",
      "Requirement already satisfied: pandas>=1.2 in c:\\users\\admin\\appdata\\local\\programs\\python\\python312\\lib\\site-packages (from seaborn) (2.2.1)\n",
      "Requirement already satisfied: matplotlib!=3.6.1,>=3.4 in c:\\users\\admin\\appdata\\local\\programs\\python\\python312\\lib\\site-packages (from seaborn) (3.8.3)\n",
      "Requirement already satisfied: contourpy>=1.0.1 in c:\\users\\admin\\appdata\\local\\programs\\python\\python312\\lib\\site-packages (from matplotlib!=3.6.1,>=3.4->seaborn) (1.2.0)\n",
      "Requirement already satisfied: cycler>=0.10 in c:\\users\\admin\\appdata\\local\\programs\\python\\python312\\lib\\site-packages (from matplotlib!=3.6.1,>=3.4->seaborn) (0.12.1)\n",
      "Requirement already satisfied: fonttools>=4.22.0 in c:\\users\\admin\\appdata\\local\\programs\\python\\python312\\lib\\site-packages (from matplotlib!=3.6.1,>=3.4->seaborn) (4.49.0)\n",
      "Requirement already satisfied: kiwisolver>=1.3.1 in c:\\users\\admin\\appdata\\local\\programs\\python\\python312\\lib\\site-packages (from matplotlib!=3.6.1,>=3.4->seaborn) (1.4.5)\n",
      "Requirement already satisfied: packaging>=20.0 in c:\\users\\admin\\appdata\\roaming\\python\\python312\\site-packages (from matplotlib!=3.6.1,>=3.4->seaborn) (24.0)\n",
      "Requirement already satisfied: pillow>=8 in c:\\users\\admin\\appdata\\local\\programs\\python\\python312\\lib\\site-packages (from matplotlib!=3.6.1,>=3.4->seaborn) (10.2.0)\n",
      "Requirement already satisfied: pyparsing>=2.3.1 in c:\\users\\admin\\appdata\\local\\programs\\python\\python312\\lib\\site-packages (from matplotlib!=3.6.1,>=3.4->seaborn) (3.1.2)\n",
      "Requirement already satisfied: python-dateutil>=2.7 in c:\\users\\admin\\appdata\\roaming\\python\\python312\\site-packages (from matplotlib!=3.6.1,>=3.4->seaborn) (2.9.0.post0)\n",
      "Requirement already satisfied: pytz>=2020.1 in c:\\users\\admin\\appdata\\local\\programs\\python\\python312\\lib\\site-packages (from pandas>=1.2->seaborn) (2024.1)\n",
      "Requirement already satisfied: tzdata>=2022.7 in c:\\users\\admin\\appdata\\local\\programs\\python\\python312\\lib\\site-packages (from pandas>=1.2->seaborn) (2024.1)\n",
      "Requirement already satisfied: six>=1.5 in c:\\users\\admin\\appdata\\roaming\\python\\python312\\site-packages (from python-dateutil>=2.7->matplotlib!=3.6.1,>=3.4->seaborn) (1.16.0)\n",
      "Note: you may need to restart the kernel to use updated packages.\n"
     ]
    }
   ],
   "source": [
    "# Install required modules\n",
    "%pip install pandas\n",
    "%pip install matplotlib\n",
    "%pip install seaborn"
   ]
  },
  {
   "cell_type": "code",
   "execution_count": 2,
   "metadata": {},
   "outputs": [],
   "source": [
    "import pandas as pd "
   ]
  },
  {
   "cell_type": "code",
   "execution_count": 3,
   "metadata": {},
   "outputs": [
    {
     "data": {
      "text/html": [
       "<div>\n",
       "<style scoped>\n",
       "    .dataframe tbody tr th:only-of-type {\n",
       "        vertical-align: middle;\n",
       "    }\n",
       "\n",
       "    .dataframe tbody tr th {\n",
       "        vertical-align: top;\n",
       "    }\n",
       "\n",
       "    .dataframe thead th {\n",
       "        text-align: right;\n",
       "    }\n",
       "</style>\n",
       "<table border=\"1\" class=\"dataframe\">\n",
       "  <thead>\n",
       "    <tr style=\"text-align: right;\">\n",
       "      <th></th>\n",
       "      <th>created_at</th>\n",
       "      <th>tree_id</th>\n",
       "      <th>block_id</th>\n",
       "      <th>the_geom</th>\n",
       "      <th>tree_dbh</th>\n",
       "      <th>stump_diam</th>\n",
       "      <th>curb_loc</th>\n",
       "      <th>status</th>\n",
       "      <th>health</th>\n",
       "      <th>spc_latin</th>\n",
       "      <th>...</th>\n",
       "      <th>st_assem</th>\n",
       "      <th>st_senate</th>\n",
       "      <th>nta</th>\n",
       "      <th>nta_name</th>\n",
       "      <th>boro_ct</th>\n",
       "      <th>state</th>\n",
       "      <th>Latitude</th>\n",
       "      <th>longitude</th>\n",
       "      <th>x_sp</th>\n",
       "      <th>y_sp</th>\n",
       "    </tr>\n",
       "  </thead>\n",
       "  <tbody>\n",
       "    <tr>\n",
       "      <th>2558</th>\n",
       "      <td>11/23/2015</td>\n",
       "      <td>437038.0</td>\n",
       "      <td>339989.0</td>\n",
       "      <td>POINT (-73.75446570638874 40.59817799993476)</td>\n",
       "      <td>14.0</td>\n",
       "      <td>0</td>\n",
       "      <td>OnCurb</td>\n",
       "      <td>Alive</td>\n",
       "      <td>Good</td>\n",
       "      <td>Platanus x acerifolia</td>\n",
       "      <td>...</td>\n",
       "      <td>31.0</td>\n",
       "      <td>10.0</td>\n",
       "      <td>QN15</td>\n",
       "      <td>Far Rockaway-Bayswater</td>\n",
       "      <td>4099801.0</td>\n",
       "      <td>New York</td>\n",
       "      <td>40.598178</td>\n",
       "      <td>-73.754466</td>\n",
       "      <td>1052435.844</td>\n",
       "      <td>157304.3413</td>\n",
       "    </tr>\n",
       "  </tbody>\n",
       "</table>\n",
       "<p>1 rows × 42 columns</p>\n",
       "</div>"
      ],
      "text/plain": [
       "      created_at   tree_id  block_id  \\\n",
       "2558  11/23/2015  437038.0  339989.0   \n",
       "\n",
       "                                          the_geom  tree_dbh  stump_diam  \\\n",
       "2558  POINT (-73.75446570638874 40.59817799993476)      14.0           0   \n",
       "\n",
       "     curb_loc status health              spc_latin  ... st_assem st_senate  \\\n",
       "2558   OnCurb  Alive   Good  Platanus x acerifolia  ...     31.0      10.0   \n",
       "\n",
       "       nta                nta_name    boro_ct     state   Latitude  longitude  \\\n",
       "2558  QN15  Far Rockaway-Bayswater  4099801.0  New York  40.598178 -73.754466   \n",
       "\n",
       "             x_sp         y_sp  \n",
       "2558  1052435.844  157304.3413  \n",
       "\n",
       "[1 rows x 42 columns]"
      ]
     },
     "execution_count": 3,
     "metadata": {},
     "output_type": "execute_result"
    }
   ],
   "source": [
    "# Import data abd show one observation\n",
    "df = pd.read_csv('../Data Cleaning Pandas/Data/NewYorkTreesHealthCensus.csv')\n",
    "df.sample()"
   ]
  },
  {
   "cell_type": "markdown",
   "metadata": {},
   "source": [
    "## Explore the dataframe"
   ]
  },
  {
   "cell_type": "code",
   "execution_count": 5,
   "metadata": {},
   "outputs": [
    {
     "name": "stdout",
     "output_type": "stream",
     "text": [
      "<class 'pandas.core.frame.DataFrame'>\n",
      "RangeIndex: 50000 entries, 0 to 49999\n",
      "Data columns (total 42 columns):\n",
      " #   Column      Non-Null Count  Dtype  \n",
      "---  ------      --------------  -----  \n",
      " 0   created_at  50000 non-null  object \n",
      " 1   tree_id     49873 non-null  float64\n",
      " 2   block_id    49967 non-null  float64\n",
      " 3   the_geom    50000 non-null  object \n",
      " 4   tree_dbh    49895 non-null  float64\n",
      " 5   stump_diam  50000 non-null  int64  \n",
      " 6   curb_loc    50000 non-null  object \n",
      " 7   status      49674 non-null  object \n",
      " 8   health      47732 non-null  object \n",
      " 9   spc_latin   47732 non-null  object \n",
      " 10  spc_common  47732 non-null  object \n",
      " 11  steward     10715 non-null  object \n",
      " 12  guards      4953 non-null   object \n",
      " 13  sidewalk    47732 non-null  object \n",
      " 14  user_type   50000 non-null  object \n",
      " 15  problems    15603 non-null  object \n",
      " 16  root_stone  50000 non-null  object \n",
      " 17  root_grate  50000 non-null  object \n",
      " 18  root_other  50000 non-null  object \n",
      " 19  trnk_wire   50000 non-null  object \n",
      " 20  trnk_light  50000 non-null  object \n",
      " 21  trnk_other  50000 non-null  object \n",
      " 22  brnch_ligh  50000 non-null  object \n",
      " 23  brnch_shoe  50000 non-null  object \n",
      " 24  brnch_othe  50000 non-null  object \n",
      " 25  address     50000 non-null  object \n",
      " 26  zipcode     50000 non-null  int64  \n",
      " 27  zip_city    50000 non-null  object \n",
      " 28  cb_num      50000 non-null  float64\n",
      " 29  borocode    50000 non-null  float64\n",
      " 30  boroname    49976 non-null  object \n",
      " 31  cncldist    50000 non-null  float64\n",
      " 32  st_assem    50000 non-null  float64\n",
      " 33  st_senate   50000 non-null  float64\n",
      " 34  nta         50000 non-null  object \n",
      " 35  nta_name    50000 non-null  object \n",
      " 36  boro_ct     50000 non-null  float64\n",
      " 37  state       50000 non-null  object \n",
      " 38  Latitude    50000 non-null  float64\n",
      " 39  longitude   50000 non-null  float64\n",
      " 40  x_sp        50000 non-null  float64\n",
      " 41  y_sp        50000 non-null  float64\n",
      "dtypes: float64(13), int64(2), object(27)\n",
      "memory usage: 16.0+ MB\n"
     ]
    }
   ],
   "source": [
    "# View structure of dataframe\n",
    "df.info()"
   ]
  },
  {
   "cell_type": "code",
   "execution_count": 6,
   "metadata": {},
   "outputs": [
    {
     "name": "stdout",
     "output_type": "stream",
     "text": [
      "Dimension of data :  (50000, 42)\n",
      "Dataframe type :  <class 'pandas.core.frame.DataFrame'>\n"
     ]
    }
   ],
   "source": [
    "# Structure \n",
    "print('Dimension of data : ', df.shape)\n",
    "print('Dataframe type : ', type(df))"
   ]
  },
  {
   "cell_type": "markdown",
   "metadata": {},
   "source": [
    "### Subset Data\n",
    "This is a large dataset, lets subset the data by randomly selecting 5000 observations. "
   ]
  },
  {
   "cell_type": "code",
   "execution_count": 7,
   "metadata": {},
   "outputs": [
    {
     "data": {
      "text/plain": [
       "(2000, 42)"
      ]
     },
     "execution_count": 7,
     "metadata": {},
     "output_type": "execute_result"
    }
   ],
   "source": [
    "# Select 5000 random rows\n",
    "\n",
    "subset = df.sample(n=2000)\n",
    "subset.shape"
   ]
  },
  {
   "cell_type": "markdown",
   "metadata": {},
   "source": [
    "### Drop Columns."
   ]
  },
  {
   "cell_type": "code",
   "execution_count": 8,
   "metadata": {},
   "outputs": [
    {
     "data": {
      "text/plain": [
       "created_at     object\n",
       "tree_id       float64\n",
       "block_id      float64\n",
       "the_geom       object\n",
       "tree_dbh      float64\n",
       "stump_diam      int64\n",
       "curb_loc       object\n",
       "status         object\n",
       "health         object\n",
       "spc_latin      object\n",
       "spc_common     object\n",
       "steward        object\n",
       "guards         object\n",
       "sidewalk       object\n",
       "user_type      object\n",
       "problems       object\n",
       "root_stone     object\n",
       "root_grate     object\n",
       "root_other     object\n",
       "trnk_wire      object\n",
       "trnk_light     object\n",
       "trnk_other     object\n",
       "brnch_ligh     object\n",
       "brnch_shoe     object\n",
       "brnch_othe     object\n",
       "address        object\n",
       "zipcode         int64\n",
       "zip_city       object\n",
       "cb_num        float64\n",
       "borocode      float64\n",
       "boroname       object\n",
       "cncldist      float64\n",
       "st_assem      float64\n",
       "st_senate     float64\n",
       "nta            object\n",
       "nta_name       object\n",
       "boro_ct       float64\n",
       "state          object\n",
       "Latitude      float64\n",
       "longitude     float64\n",
       "x_sp          float64\n",
       "y_sp          float64\n",
       "dtype: object"
      ]
     },
     "execution_count": 8,
     "metadata": {},
     "output_type": "execute_result"
    }
   ],
   "source": [
    "# Column data types\n",
    "subset.dtypes"
   ]
  },
  {
   "cell_type": "code",
   "execution_count": 9,
   "metadata": {},
   "outputs": [
    {
     "data": {
      "text/plain": [
       "array(['created_at', 'tree_id', 'block_id', 'the_geom', 'tree_dbh',\n",
       "       'stump_diam', 'curb_loc', 'status', 'health', 'spc_latin',\n",
       "       'spc_common', 'steward', 'guards', 'sidewalk', 'user_type',\n",
       "       'problems', 'root_stone', 'root_grate', 'root_other', 'trnk_wire',\n",
       "       'trnk_light', 'trnk_other', 'brnch_ligh', 'brnch_shoe',\n",
       "       'brnch_othe', 'address', 'zipcode', 'zip_city', 'cb_num',\n",
       "       'borocode', 'boroname', 'cncldist', 'st_assem', 'st_senate', 'nta',\n",
       "       'nta_name', 'boro_ct', 'state', 'Latitude', 'longitude', 'x_sp',\n",
       "       'y_sp'], dtype=object)"
      ]
     },
     "execution_count": 9,
     "metadata": {},
     "output_type": "execute_result"
    }
   ],
   "source": [
    "# Print column names\n",
    "subset.columns.values"
   ]
  },
  {
   "cell_type": "code",
   "execution_count": 10,
   "metadata": {},
   "outputs": [
    {
     "data": {
      "text/html": [
       "<div>\n",
       "<style scoped>\n",
       "    .dataframe tbody tr th:only-of-type {\n",
       "        vertical-align: middle;\n",
       "    }\n",
       "\n",
       "    .dataframe tbody tr th {\n",
       "        vertical-align: top;\n",
       "    }\n",
       "\n",
       "    .dataframe thead th {\n",
       "        text-align: right;\n",
       "    }\n",
       "</style>\n",
       "<table border=\"1\" class=\"dataframe\">\n",
       "  <thead>\n",
       "    <tr style=\"text-align: right;\">\n",
       "      <th></th>\n",
       "      <th>tree_id</th>\n",
       "      <th>block_id</th>\n",
       "      <th>tree_dbh</th>\n",
       "      <th>stump_diam</th>\n",
       "      <th>zipcode</th>\n",
       "      <th>cb_num</th>\n",
       "      <th>borocode</th>\n",
       "      <th>cncldist</th>\n",
       "      <th>st_assem</th>\n",
       "      <th>st_senate</th>\n",
       "      <th>boro_ct</th>\n",
       "      <th>Latitude</th>\n",
       "      <th>longitude</th>\n",
       "      <th>x_sp</th>\n",
       "      <th>y_sp</th>\n",
       "    </tr>\n",
       "  </thead>\n",
       "  <tbody>\n",
       "    <tr>\n",
       "      <th>count</th>\n",
       "      <td>1998.000000</td>\n",
       "      <td>2000.000000</td>\n",
       "      <td>1995.000000</td>\n",
       "      <td>2000.000000</td>\n",
       "      <td>2000.000000</td>\n",
       "      <td>2000.000000</td>\n",
       "      <td>2000.000000</td>\n",
       "      <td>2000.000000</td>\n",
       "      <td>2000.000000</td>\n",
       "      <td>2000.000000</td>\n",
       "      <td>2.000000e+03</td>\n",
       "      <td>2000.000000</td>\n",
       "      <td>2000.000000</td>\n",
       "      <td>2.000000e+03</td>\n",
       "      <td>2000.000000</td>\n",
       "    </tr>\n",
       "    <tr>\n",
       "      <th>mean</th>\n",
       "      <td>443866.652653</td>\n",
       "      <td>327900.620500</td>\n",
       "      <td>11.612030</td>\n",
       "      <td>0.364500</td>\n",
       "      <td>10920.065500</td>\n",
       "      <td>358.078500</td>\n",
       "      <td>3.503500</td>\n",
       "      <td>31.211500</td>\n",
       "      <td>50.399500</td>\n",
       "      <td>20.313500</td>\n",
       "      <td>3.551536e+06</td>\n",
       "      <td>40.694326</td>\n",
       "      <td>-73.925896</td>\n",
       "      <td>1.004767e+06</td>\n",
       "      <td>192275.549696</td>\n",
       "    </tr>\n",
       "    <tr>\n",
       "      <th>std</th>\n",
       "      <td>156676.818201</td>\n",
       "      <td>109497.640547</td>\n",
       "      <td>8.706622</td>\n",
       "      <td>2.794019</td>\n",
       "      <td>655.260626</td>\n",
       "      <td>111.015948</td>\n",
       "      <td>1.122772</td>\n",
       "      <td>14.212169</td>\n",
       "      <td>18.927864</td>\n",
       "      <td>7.413818</td>\n",
       "      <td>1.128016e+06</td>\n",
       "      <td>0.093764</td>\n",
       "      <td>0.134059</td>\n",
       "      <td>3.719482e+04</td>\n",
       "      <td>34159.824623</td>\n",
       "    </tr>\n",
       "    <tr>\n",
       "      <th>min</th>\n",
       "      <td>42354.000000</td>\n",
       "      <td>100152.000000</td>\n",
       "      <td>0.000000</td>\n",
       "      <td>0.000000</td>\n",
       "      <td>83.000000</td>\n",
       "      <td>101.000000</td>\n",
       "      <td>1.000000</td>\n",
       "      <td>1.000000</td>\n",
       "      <td>23.000000</td>\n",
       "      <td>10.000000</td>\n",
       "      <td>1.000900e+06</td>\n",
       "      <td>40.500173</td>\n",
       "      <td>-74.253711</td>\n",
       "      <td>9.136973e+05</td>\n",
       "      <td>121598.093800</td>\n",
       "    </tr>\n",
       "    <tr>\n",
       "      <th>25%</th>\n",
       "      <td>309734.500000</td>\n",
       "      <td>227485.750000</td>\n",
       "      <td>5.000000</td>\n",
       "      <td>0.000000</td>\n",
       "      <td>10314.000000</td>\n",
       "      <td>305.000000</td>\n",
       "      <td>3.000000</td>\n",
       "      <td>20.000000</td>\n",
       "      <td>32.000000</td>\n",
       "      <td>14.000000</td>\n",
       "      <td>3.028775e+06</td>\n",
       "      <td>40.621102</td>\n",
       "      <td>-73.986238</td>\n",
       "      <td>9.880682e+05</td>\n",
       "      <td>165567.806025</td>\n",
       "    </tr>\n",
       "    <tr>\n",
       "      <th>50%</th>\n",
       "      <td>448836.500000</td>\n",
       "      <td>327191.000000</td>\n",
       "      <td>10.000000</td>\n",
       "      <td>0.000000</td>\n",
       "      <td>11212.500000</td>\n",
       "      <td>405.000000</td>\n",
       "      <td>4.000000</td>\n",
       "      <td>30.000000</td>\n",
       "      <td>51.000000</td>\n",
       "      <td>20.000000</td>\n",
       "      <td>4.027200e+06</td>\n",
       "      <td>40.691552</td>\n",
       "      <td>-73.909919</td>\n",
       "      <td>1.009238e+06</td>\n",
       "      <td>191266.697400</td>\n",
       "    </tr>\n",
       "    <tr>\n",
       "      <th>75%</th>\n",
       "      <td>575274.500000</td>\n",
       "      <td>408022.500000</td>\n",
       "      <td>16.000000</td>\n",
       "      <td>0.000000</td>\n",
       "      <td>11365.000000</td>\n",
       "      <td>413.000000</td>\n",
       "      <td>4.000000</td>\n",
       "      <td>46.000000</td>\n",
       "      <td>63.000000</td>\n",
       "      <td>24.000000</td>\n",
       "      <td>4.124100e+06</td>\n",
       "      <td>40.759692</td>\n",
       "      <td>-73.824971</td>\n",
       "      <td>1.032718e+06</td>\n",
       "      <td>216072.953150</td>\n",
       "    </tr>\n",
       "    <tr>\n",
       "      <th>max</th>\n",
       "      <td>721134.000000</td>\n",
       "      <td>602516.000000</td>\n",
       "      <td>49.000000</td>\n",
       "      <td>49.000000</td>\n",
       "      <td>11694.000000</td>\n",
       "      <td>503.000000</td>\n",
       "      <td>5.000000</td>\n",
       "      <td>51.000000</td>\n",
       "      <td>87.000000</td>\n",
       "      <td>36.000000</td>\n",
       "      <td>5.031902e+06</td>\n",
       "      <td>40.907438</td>\n",
       "      <td>-73.703281</td>\n",
       "      <td>1.066475e+06</td>\n",
       "      <td>269897.507200</td>\n",
       "    </tr>\n",
       "  </tbody>\n",
       "</table>\n",
       "</div>"
      ],
      "text/plain": [
       "             tree_id       block_id     tree_dbh   stump_diam       zipcode  \\\n",
       "count    1998.000000    2000.000000  1995.000000  2000.000000   2000.000000   \n",
       "mean   443866.652653  327900.620500    11.612030     0.364500  10920.065500   \n",
       "std    156676.818201  109497.640547     8.706622     2.794019    655.260626   \n",
       "min     42354.000000  100152.000000     0.000000     0.000000     83.000000   \n",
       "25%    309734.500000  227485.750000     5.000000     0.000000  10314.000000   \n",
       "50%    448836.500000  327191.000000    10.000000     0.000000  11212.500000   \n",
       "75%    575274.500000  408022.500000    16.000000     0.000000  11365.000000   \n",
       "max    721134.000000  602516.000000    49.000000    49.000000  11694.000000   \n",
       "\n",
       "            cb_num     borocode     cncldist     st_assem    st_senate  \\\n",
       "count  2000.000000  2000.000000  2000.000000  2000.000000  2000.000000   \n",
       "mean    358.078500     3.503500    31.211500    50.399500    20.313500   \n",
       "std     111.015948     1.122772    14.212169    18.927864     7.413818   \n",
       "min     101.000000     1.000000     1.000000    23.000000    10.000000   \n",
       "25%     305.000000     3.000000    20.000000    32.000000    14.000000   \n",
       "50%     405.000000     4.000000    30.000000    51.000000    20.000000   \n",
       "75%     413.000000     4.000000    46.000000    63.000000    24.000000   \n",
       "max     503.000000     5.000000    51.000000    87.000000    36.000000   \n",
       "\n",
       "            boro_ct     Latitude    longitude          x_sp           y_sp  \n",
       "count  2.000000e+03  2000.000000  2000.000000  2.000000e+03    2000.000000  \n",
       "mean   3.551536e+06    40.694326   -73.925896  1.004767e+06  192275.549696  \n",
       "std    1.128016e+06     0.093764     0.134059  3.719482e+04   34159.824623  \n",
       "min    1.000900e+06    40.500173   -74.253711  9.136973e+05  121598.093800  \n",
       "25%    3.028775e+06    40.621102   -73.986238  9.880682e+05  165567.806025  \n",
       "50%    4.027200e+06    40.691552   -73.909919  1.009238e+06  191266.697400  \n",
       "75%    4.124100e+06    40.759692   -73.824971  1.032718e+06  216072.953150  \n",
       "max    5.031902e+06    40.907438   -73.703281  1.066475e+06  269897.507200  "
      ]
     },
     "execution_count": 10,
     "metadata": {},
     "output_type": "execute_result"
    }
   ],
   "source": [
    "# Check columns of integer values\n",
    "subset.describe()"
   ]
  },
  {
   "cell_type": "code",
   "execution_count": 11,
   "metadata": {},
   "outputs": [
    {
     "data": {
      "text/plain": [
       "array(['created_at', 'tree_id', 'tree_dbh', 'status', 'address',\n",
       "       'boroname', 'Latitude', 'longitude'], dtype=object)"
      ]
     },
     "execution_count": 11,
     "metadata": {},
     "output_type": "execute_result"
    }
   ],
   "source": [
    "# Select few columns \n",
    "df2 = subset[['created_at','tree_id','tree_dbh','status','address','boroname','Latitude', 'longitude']]\n",
    "df2.columns.values"
   ]
  },
  {
   "cell_type": "code",
   "execution_count": 12,
   "metadata": {},
   "outputs": [
    {
     "data": {
      "text/html": [
       "<div>\n",
       "<style scoped>\n",
       "    .dataframe tbody tr th:only-of-type {\n",
       "        vertical-align: middle;\n",
       "    }\n",
       "\n",
       "    .dataframe tbody tr th {\n",
       "        vertical-align: top;\n",
       "    }\n",
       "\n",
       "    .dataframe thead th {\n",
       "        text-align: right;\n",
       "    }\n",
       "</style>\n",
       "<table border=\"1\" class=\"dataframe\">\n",
       "  <thead>\n",
       "    <tr style=\"text-align: right;\">\n",
       "      <th></th>\n",
       "      <th>created_at</th>\n",
       "      <th>tree_id</th>\n",
       "      <th>tree_dbh</th>\n",
       "      <th>status</th>\n",
       "      <th>address</th>\n",
       "      <th>boroname</th>\n",
       "      <th>Latitude</th>\n",
       "      <th>longitude</th>\n",
       "    </tr>\n",
       "  </thead>\n",
       "  <tbody>\n",
       "    <tr>\n",
       "      <th>4620</th>\n",
       "      <td>10/28/2015</td>\n",
       "      <td>512156.0</td>\n",
       "      <td>18.0</td>\n",
       "      <td>Alive</td>\n",
       "      <td>1023 REVERE AVENUE</td>\n",
       "      <td>Bronx</td>\n",
       "      <td>40.831169</td>\n",
       "      <td>-73.827958</td>\n",
       "    </tr>\n",
       "    <tr>\n",
       "      <th>1673</th>\n",
       "      <td>05/09/2016</td>\n",
       "      <td>305829.0</td>\n",
       "      <td>5.0</td>\n",
       "      <td>Alive</td>\n",
       "      <td>43-002 250 STREET</td>\n",
       "      <td>Queens</td>\n",
       "      <td>40.769558</td>\n",
       "      <td>-73.738662</td>\n",
       "    </tr>\n",
       "    <tr>\n",
       "      <th>24650</th>\n",
       "      <td>09/17/2015</td>\n",
       "      <td>684577.0</td>\n",
       "      <td>4.0</td>\n",
       "      <td>Alive</td>\n",
       "      <td>384 FULTON STREET</td>\n",
       "      <td>Brooklyn</td>\n",
       "      <td>40.691305</td>\n",
       "      <td>-73.987097</td>\n",
       "    </tr>\n",
       "    <tr>\n",
       "      <th>41203</th>\n",
       "      <td>09/12/2015</td>\n",
       "      <td>684354.0</td>\n",
       "      <td>3.0</td>\n",
       "      <td>Alive</td>\n",
       "      <td>2 KINGSLAND AVENUE</td>\n",
       "      <td>Brooklyn</td>\n",
       "      <td>40.716176</td>\n",
       "      <td>-73.940162</td>\n",
       "    </tr>\n",
       "    <tr>\n",
       "      <th>48989</th>\n",
       "      <td>01/04/2016</td>\n",
       "      <td>317606.0</td>\n",
       "      <td>6.0</td>\n",
       "      <td>Alive</td>\n",
       "      <td>900 GRAND CONCOURSE</td>\n",
       "      <td>Bronx</td>\n",
       "      <td>40.827501</td>\n",
       "      <td>-73.922259</td>\n",
       "    </tr>\n",
       "  </tbody>\n",
       "</table>\n",
       "</div>"
      ],
      "text/plain": [
       "       created_at   tree_id  tree_dbh status              address  boroname  \\\n",
       "4620   10/28/2015  512156.0      18.0  Alive   1023 REVERE AVENUE     Bronx   \n",
       "1673   05/09/2016  305829.0       5.0  Alive    43-002 250 STREET    Queens   \n",
       "24650  09/17/2015  684577.0       4.0  Alive    384 FULTON STREET  Brooklyn   \n",
       "41203  09/12/2015  684354.0       3.0  Alive   2 KINGSLAND AVENUE  Brooklyn   \n",
       "48989  01/04/2016  317606.0       6.0  Alive  900 GRAND CONCOURSE     Bronx   \n",
       "\n",
       "        Latitude  longitude  \n",
       "4620   40.831169 -73.827958  \n",
       "1673   40.769558 -73.738662  \n",
       "24650  40.691305 -73.987097  \n",
       "41203  40.716176 -73.940162  \n",
       "48989  40.827501 -73.922259  "
      ]
     },
     "execution_count": 12,
     "metadata": {},
     "output_type": "execute_result"
    }
   ],
   "source": [
    "# Check the first 5 observations\n",
    "df2.head()"
   ]
  },
  {
   "cell_type": "code",
   "execution_count": 13,
   "metadata": {},
   "outputs": [
    {
     "data": {
      "text/plain": [
       "2000"
      ]
     },
     "execution_count": 13,
     "metadata": {},
     "output_type": "execute_result"
    }
   ],
   "source": [
    "# Check the first 5 observations\n",
    "df2.tail()\n",
    "len(df2)"
   ]
  },
  {
   "cell_type": "markdown",
   "metadata": {},
   "source": [
    "## Duplicate Values.\n",
    "\n",
    "These are rows that have exactly the same values across all columns. Since the tree_id uniqely identifies each tree, we will count values in this column."
   ]
  },
  {
   "cell_type": "code",
   "execution_count": 14,
   "metadata": {},
   "outputs": [
    {
     "data": {
      "text/plain": [
       "1"
      ]
     },
     "execution_count": 14,
     "metadata": {},
     "output_type": "execute_result"
    }
   ],
   "source": [
    "duplicates = len(df2['tree_id'])-len(df2['tree_id'].drop_duplicates())\n",
    "duplicates"
   ]
  },
  {
   "cell_type": "markdown",
   "metadata": {},
   "source": [
    "Remove duplicates "
   ]
  },
  {
   "cell_type": "code",
   "execution_count": 15,
   "metadata": {},
   "outputs": [
    {
     "name": "stderr",
     "output_type": "stream",
     "text": [
      "C:\\Users\\Admin\\AppData\\Local\\Temp\\ipykernel_12116\\3704577207.py:1: SettingWithCopyWarning: \n",
      "A value is trying to be set on a copy of a slice from a DataFrame\n",
      "\n",
      "See the caveats in the documentation: https://pandas.pydata.org/pandas-docs/stable/user_guide/indexing.html#returning-a-view-versus-a-copy\n",
      "  df3 = df2.drop_duplicates(subset=\"tree_id\", keep=False, inplace=True)\n"
     ]
    },
    {
     "data": {
      "text/plain": [
       "1998"
      ]
     },
     "execution_count": 15,
     "metadata": {},
     "output_type": "execute_result"
    }
   ],
   "source": [
    "df3 = df2.drop_duplicates(subset=\"tree_id\", keep=False, inplace=True)\n",
    "\n",
    "# Check if duplicate values have been removed \n",
    "len(df2)"
   ]
  },
  {
   "cell_type": "markdown",
   "metadata": {},
   "source": [
    "### Split Columns.\n",
    "\n",
    "The address, 23-091 29 STREET, column consists of house number as 23-091 and street name as 29 Street. Lets split these and place each in its own column. "
   ]
  },
  {
   "cell_type": "code",
   "execution_count": 16,
   "metadata": {},
   "outputs": [
    {
     "name": "stdout",
     "output_type": "stream",
     "text": [
      "created_at    False\n",
      "tree_id       False\n",
      "tree_dbh       True\n",
      "status         True\n",
      "address       False\n",
      "boroname      False\n",
      "Latitude      False\n",
      "longitude     False\n",
      "dtype: bool\n"
     ]
    }
   ],
   "source": [
    "# Check if any column contains a muissing value\n",
    "print(df2.isnull().any())"
   ]
  },
  {
   "cell_type": "code",
   "execution_count": 17,
   "metadata": {},
   "outputs": [
    {
     "data": {
      "text/html": [
       "<div>\n",
       "<style scoped>\n",
       "    .dataframe tbody tr th:only-of-type {\n",
       "        vertical-align: middle;\n",
       "    }\n",
       "\n",
       "    .dataframe tbody tr th {\n",
       "        vertical-align: top;\n",
       "    }\n",
       "\n",
       "    .dataframe thead th {\n",
       "        text-align: right;\n",
       "    }\n",
       "</style>\n",
       "<table border=\"1\" class=\"dataframe\">\n",
       "  <thead>\n",
       "    <tr style=\"text-align: right;\">\n",
       "      <th></th>\n",
       "      <th>created_at</th>\n",
       "      <th>tree_id</th>\n",
       "      <th>tree_dbh</th>\n",
       "      <th>status</th>\n",
       "      <th>address</th>\n",
       "      <th>boroname</th>\n",
       "      <th>Latitude</th>\n",
       "      <th>longitude</th>\n",
       "    </tr>\n",
       "  </thead>\n",
       "  <tbody>\n",
       "    <tr>\n",
       "      <th>4620</th>\n",
       "      <td>10/28/2015</td>\n",
       "      <td>512156.0</td>\n",
       "      <td>18.0</td>\n",
       "      <td>Alive</td>\n",
       "      <td>1023 REVERE AVENUE</td>\n",
       "      <td>Bronx</td>\n",
       "      <td>40.831169</td>\n",
       "      <td>-73.827958</td>\n",
       "    </tr>\n",
       "    <tr>\n",
       "      <th>1673</th>\n",
       "      <td>05/09/2016</td>\n",
       "      <td>305829.0</td>\n",
       "      <td>5.0</td>\n",
       "      <td>Alive</td>\n",
       "      <td>43-002 250 STREET</td>\n",
       "      <td>Queens</td>\n",
       "      <td>40.769558</td>\n",
       "      <td>-73.738662</td>\n",
       "    </tr>\n",
       "    <tr>\n",
       "      <th>24650</th>\n",
       "      <td>09/17/2015</td>\n",
       "      <td>684577.0</td>\n",
       "      <td>4.0</td>\n",
       "      <td>Alive</td>\n",
       "      <td>384 FULTON STREET</td>\n",
       "      <td>Brooklyn</td>\n",
       "      <td>40.691305</td>\n",
       "      <td>-73.987097</td>\n",
       "    </tr>\n",
       "    <tr>\n",
       "      <th>41203</th>\n",
       "      <td>09/12/2015</td>\n",
       "      <td>684354.0</td>\n",
       "      <td>3.0</td>\n",
       "      <td>Alive</td>\n",
       "      <td>2 KINGSLAND AVENUE</td>\n",
       "      <td>Brooklyn</td>\n",
       "      <td>40.716176</td>\n",
       "      <td>-73.940162</td>\n",
       "    </tr>\n",
       "    <tr>\n",
       "      <th>48989</th>\n",
       "      <td>01/04/2016</td>\n",
       "      <td>317606.0</td>\n",
       "      <td>6.0</td>\n",
       "      <td>Alive</td>\n",
       "      <td>900 GRAND CONCOURSE</td>\n",
       "      <td>Bronx</td>\n",
       "      <td>40.827501</td>\n",
       "      <td>-73.922259</td>\n",
       "    </tr>\n",
       "    <tr>\n",
       "      <th>...</th>\n",
       "      <td>...</td>\n",
       "      <td>...</td>\n",
       "      <td>...</td>\n",
       "      <td>...</td>\n",
       "      <td>...</td>\n",
       "      <td>...</td>\n",
       "      <td>...</td>\n",
       "      <td>...</td>\n",
       "    </tr>\n",
       "    <tr>\n",
       "      <th>43538</th>\n",
       "      <td>09/25/2015</td>\n",
       "      <td>646011.0</td>\n",
       "      <td>39.0</td>\n",
       "      <td>Alive</td>\n",
       "      <td>429 81 STREET</td>\n",
       "      <td>Brooklyn</td>\n",
       "      <td>40.626041</td>\n",
       "      <td>-74.026003</td>\n",
       "    </tr>\n",
       "    <tr>\n",
       "      <th>36413</th>\n",
       "      <td>11/17/2015</td>\n",
       "      <td>388109.0</td>\n",
       "      <td>11.0</td>\n",
       "      <td>Alive</td>\n",
       "      <td>1299 INTERVALE AVENUE</td>\n",
       "      <td>Bronx</td>\n",
       "      <td>40.830220</td>\n",
       "      <td>-73.893873</td>\n",
       "    </tr>\n",
       "    <tr>\n",
       "      <th>39248</th>\n",
       "      <td>07/15/2016</td>\n",
       "      <td>282299.0</td>\n",
       "      <td>11.0</td>\n",
       "      <td>Alive</td>\n",
       "      <td>78-060 82 STREET</td>\n",
       "      <td>Queens</td>\n",
       "      <td>40.703903</td>\n",
       "      <td>-73.866714</td>\n",
       "    </tr>\n",
       "    <tr>\n",
       "      <th>26693</th>\n",
       "      <td>09/06/2015</td>\n",
       "      <td>701747.0</td>\n",
       "      <td>14.0</td>\n",
       "      <td>Alive</td>\n",
       "      <td>34-016 43 STREET</td>\n",
       "      <td>Queens</td>\n",
       "      <td>40.755132</td>\n",
       "      <td>-73.918879</td>\n",
       "    </tr>\n",
       "    <tr>\n",
       "      <th>25788</th>\n",
       "      <td>06/23/2016</td>\n",
       "      <td>278275.0</td>\n",
       "      <td>14.0</td>\n",
       "      <td>Alive</td>\n",
       "      <td>3-009 147 PLACE</td>\n",
       "      <td>Queens</td>\n",
       "      <td>40.796292</td>\n",
       "      <td>-73.821632</td>\n",
       "    </tr>\n",
       "  </tbody>\n",
       "</table>\n",
       "<p>1998 rows × 8 columns</p>\n",
       "</div>"
      ],
      "text/plain": [
       "       created_at   tree_id  tree_dbh status                address  boroname  \\\n",
       "4620   10/28/2015  512156.0      18.0  Alive     1023 REVERE AVENUE     Bronx   \n",
       "1673   05/09/2016  305829.0       5.0  Alive      43-002 250 STREET    Queens   \n",
       "24650  09/17/2015  684577.0       4.0  Alive      384 FULTON STREET  Brooklyn   \n",
       "41203  09/12/2015  684354.0       3.0  Alive     2 KINGSLAND AVENUE  Brooklyn   \n",
       "48989  01/04/2016  317606.0       6.0  Alive    900 GRAND CONCOURSE     Bronx   \n",
       "...           ...       ...       ...    ...                    ...       ...   \n",
       "43538  09/25/2015  646011.0      39.0  Alive          429 81 STREET  Brooklyn   \n",
       "36413  11/17/2015  388109.0      11.0  Alive  1299 INTERVALE AVENUE     Bronx   \n",
       "39248  07/15/2016  282299.0      11.0  Alive       78-060 82 STREET    Queens   \n",
       "26693  09/06/2015  701747.0      14.0  Alive       34-016 43 STREET    Queens   \n",
       "25788  06/23/2016  278275.0      14.0  Alive        3-009 147 PLACE    Queens   \n",
       "\n",
       "        Latitude  longitude  \n",
       "4620   40.831169 -73.827958  \n",
       "1673   40.769558 -73.738662  \n",
       "24650  40.691305 -73.987097  \n",
       "41203  40.716176 -73.940162  \n",
       "48989  40.827501 -73.922259  \n",
       "...          ...        ...  \n",
       "43538  40.626041 -74.026003  \n",
       "36413  40.830220 -73.893873  \n",
       "39248  40.703903 -73.866714  \n",
       "26693  40.755132 -73.918879  \n",
       "25788  40.796292 -73.821632  \n",
       "\n",
       "[1998 rows x 8 columns]"
      ]
     },
     "execution_count": 17,
     "metadata": {},
     "output_type": "execute_result"
    }
   ],
   "source": [
    "df2"
   ]
  },
  {
   "cell_type": "code",
   "execution_count": 59,
   "metadata": {},
   "outputs": [
    {
     "data": {
      "text/plain": [
       "245          [212-004, 35, AVENUE]\n",
       "14784       [257, PORTAGE, AVENUE]\n",
       "30153      [280, COLUMBUS, AVENUE]\n",
       "24030          [264-023, 60, ROAD]\n",
       "42284     [1555, GRAND, CONCOURSE]\n",
       "                   ...            \n",
       "39727           [10518, AVENUE, L]\n",
       "24421     [2030, EAST, 16, STREET]\n",
       "12864    [151, BAINBRIDGE, STREET]\n",
       "21762       [114-053, 178, STREET]\n",
       "20332      [359, SOUTH, 5, STREET]\n",
       "Name: address, Length: 1997, dtype: object"
      ]
     },
     "execution_count": 59,
     "metadata": {},
     "output_type": "execute_result"
    }
   ],
   "source": [
    "# Split the address column\n",
    "df2[\"address\"].str.split()"
   ]
  },
  {
   "cell_type": "code",
   "execution_count": 65,
   "metadata": {},
   "outputs": [
    {
     "data": {
      "text/plain": [
       "245          [212-004, 35 AVENUE]\n",
       "14784       [257, PORTAGE AVENUE]\n",
       "30153      [280, COLUMBUS AVENUE]\n",
       "24030          [264-023, 60 ROAD]\n",
       "42284     [1555, GRAND CONCOURSE]\n",
       "                   ...           \n",
       "39727           [10518, AVENUE L]\n",
       "24421      [2030, EAST 16 STREET]\n",
       "12864    [151, BAINBRIDGE STREET]\n",
       "21762       [114-053, 178 STREET]\n",
       "20332       [359, SOUTH 5 STREET]\n",
       "Name: address, Length: 1997, dtype: object"
      ]
     },
     "execution_count": 65,
     "metadata": {},
     "output_type": "execute_result"
    }
   ],
   "source": [
    "# Split on the first space delimiter \n",
    "df2[\"address\"].str.split(\" \", n=1)"
   ]
  },
  {
   "cell_type": "code",
   "execution_count": 66,
   "metadata": {},
   "outputs": [
    {
     "data": {
      "text/html": [
       "<div>\n",
       "<style scoped>\n",
       "    .dataframe tbody tr th:only-of-type {\n",
       "        vertical-align: middle;\n",
       "    }\n",
       "\n",
       "    .dataframe tbody tr th {\n",
       "        vertical-align: top;\n",
       "    }\n",
       "\n",
       "    .dataframe thead th {\n",
       "        text-align: right;\n",
       "    }\n",
       "</style>\n",
       "<table border=\"1\" class=\"dataframe\">\n",
       "  <thead>\n",
       "    <tr style=\"text-align: right;\">\n",
       "      <th></th>\n",
       "      <th>0</th>\n",
       "      <th>1</th>\n",
       "    </tr>\n",
       "  </thead>\n",
       "  <tbody>\n",
       "    <tr>\n",
       "      <th>245</th>\n",
       "      <td>212-004</td>\n",
       "      <td>35 AVENUE</td>\n",
       "    </tr>\n",
       "    <tr>\n",
       "      <th>14784</th>\n",
       "      <td>257</td>\n",
       "      <td>PORTAGE AVENUE</td>\n",
       "    </tr>\n",
       "    <tr>\n",
       "      <th>30153</th>\n",
       "      <td>280</td>\n",
       "      <td>COLUMBUS AVENUE</td>\n",
       "    </tr>\n",
       "    <tr>\n",
       "      <th>24030</th>\n",
       "      <td>264-023</td>\n",
       "      <td>60 ROAD</td>\n",
       "    </tr>\n",
       "    <tr>\n",
       "      <th>42284</th>\n",
       "      <td>1555</td>\n",
       "      <td>GRAND CONCOURSE</td>\n",
       "    </tr>\n",
       "    <tr>\n",
       "      <th>...</th>\n",
       "      <td>...</td>\n",
       "      <td>...</td>\n",
       "    </tr>\n",
       "    <tr>\n",
       "      <th>39727</th>\n",
       "      <td>10518</td>\n",
       "      <td>AVENUE L</td>\n",
       "    </tr>\n",
       "    <tr>\n",
       "      <th>24421</th>\n",
       "      <td>2030</td>\n",
       "      <td>EAST 16 STREET</td>\n",
       "    </tr>\n",
       "    <tr>\n",
       "      <th>12864</th>\n",
       "      <td>151</td>\n",
       "      <td>BAINBRIDGE STREET</td>\n",
       "    </tr>\n",
       "    <tr>\n",
       "      <th>21762</th>\n",
       "      <td>114-053</td>\n",
       "      <td>178 STREET</td>\n",
       "    </tr>\n",
       "    <tr>\n",
       "      <th>20332</th>\n",
       "      <td>359</td>\n",
       "      <td>SOUTH 5 STREET</td>\n",
       "    </tr>\n",
       "  </tbody>\n",
       "</table>\n",
       "<p>1997 rows × 2 columns</p>\n",
       "</div>"
      ],
      "text/plain": [
       "             0                  1\n",
       "245    212-004          35 AVENUE\n",
       "14784      257     PORTAGE AVENUE\n",
       "30153      280    COLUMBUS AVENUE\n",
       "24030  264-023            60 ROAD\n",
       "42284     1555    GRAND CONCOURSE\n",
       "...        ...                ...\n",
       "39727    10518           AVENUE L\n",
       "24421     2030     EAST 16 STREET\n",
       "12864      151  BAINBRIDGE STREET\n",
       "21762  114-053         178 STREET\n",
       "20332      359     SOUTH 5 STREET\n",
       "\n",
       "[1997 rows x 2 columns]"
      ]
     },
     "execution_count": 66,
     "metadata": {},
     "output_type": "execute_result"
    }
   ],
   "source": [
    "# Split and place each on its column \n",
    "df2[\"address\"].str.split(\" \", n=1, expand=True)"
   ]
  },
  {
   "cell_type": "code",
   "execution_count": null,
   "metadata": {},
   "outputs": [],
   "source": [
    "# Create a new dataframe with additional columns \n",
    "df = df2[\"address\"].str.split(\" \", n=1, expand=True)"
   ]
  }
 ],
 "metadata": {
  "kernelspec": {
   "display_name": "Python 3",
   "language": "python",
   "name": "python3"
  },
  "language_info": {
   "codemirror_mode": {
    "name": "ipython",
    "version": 3
   },
   "file_extension": ".py",
   "mimetype": "text/x-python",
   "name": "python",
   "nbconvert_exporter": "python",
   "pygments_lexer": "ipython3",
   "version": "3.12.2"
  }
 },
 "nbformat": 4,
 "nbformat_minor": 2
}
