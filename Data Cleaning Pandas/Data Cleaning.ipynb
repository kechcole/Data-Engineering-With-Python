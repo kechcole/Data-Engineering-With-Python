{
 "cells": [
  {
   "cell_type": "markdown",
   "metadata": {},
   "source": [
    " # DATA CLEANING WITH PANDAS\n",
    "\n",
    "\n",
    " Data source - https://data.cityofnewyork.us/Environment/2015-Street-Tree-Census-Tree-Data/uvpi-gqnh/about_data\n",
    "\n",
    "Handling pandas dataframe - https://sparkbyexamples.com/pandas/how-to-count-duplicates-in-pandas-dataframe/\n"
   ]
  },
  {
   "cell_type": "code",
   "execution_count": 1,
   "metadata": {},
   "outputs": [
    {
     "name": "stdout",
     "output_type": "stream",
     "text": [
      "Requirement already satisfied: pandas in c:\\users\\admin\\appdata\\local\\programs\\python\\python312\\lib\\site-packages (2.2.1)Note: you may need to restart the kernel to use updated packages.\n",
      "\n",
      "Requirement already satisfied: numpy<2,>=1.26.0 in c:\\users\\admin\\appdata\\local\\programs\\python\\python312\\lib\\site-packages (from pandas) (1.26.4)\n",
      "Requirement already satisfied: python-dateutil>=2.8.2 in c:\\users\\admin\\appdata\\roaming\\python\\python312\\site-packages (from pandas) (2.9.0.post0)\n",
      "Requirement already satisfied: pytz>=2020.1 in c:\\users\\admin\\appdata\\local\\programs\\python\\python312\\lib\\site-packages (from pandas) (2024.1)\n",
      "Requirement already satisfied: tzdata>=2022.7 in c:\\users\\admin\\appdata\\local\\programs\\python\\python312\\lib\\site-packages (from pandas) (2024.1)\n",
      "Requirement already satisfied: six>=1.5 in c:\\users\\admin\\appdata\\roaming\\python\\python312\\site-packages (from python-dateutil>=2.8.2->pandas) (1.16.0)\n",
      "Requirement already satisfied: matplotlib in c:\\users\\admin\\appdata\\local\\programs\\python\\python312\\lib\\site-packages (3.8.3)\n",
      "Requirement already satisfied: contourpy>=1.0.1 in c:\\users\\admin\\appdata\\local\\programs\\python\\python312\\lib\\site-packages (from matplotlib) (1.2.0)\n",
      "Requirement already satisfied: cycler>=0.10 in c:\\users\\admin\\appdata\\local\\programs\\python\\python312\\lib\\site-packages (from matplotlib) (0.12.1)\n",
      "Requirement already satisfied: fonttools>=4.22.0 in c:\\users\\admin\\appdata\\local\\programs\\python\\python312\\lib\\site-packages (from matplotlib) (4.49.0)\n",
      "Requirement already satisfied: kiwisolver>=1.3.1 in c:\\users\\admin\\appdata\\local\\programs\\python\\python312\\lib\\site-packages (from matplotlib) (1.4.5)\n",
      "Requirement already satisfied: numpy<2,>=1.21 in c:\\users\\admin\\appdata\\local\\programs\\python\\python312\\lib\\site-packages (from matplotlib) (1.26.4)\n",
      "Requirement already satisfied: packaging>=20.0 in c:\\users\\admin\\appdata\\roaming\\python\\python312\\site-packages (from matplotlib) (24.0)\n",
      "Requirement already satisfied: pillow>=8 in c:\\users\\admin\\appdata\\local\\programs\\python\\python312\\lib\\site-packages (from matplotlib) (10.2.0)\n",
      "Requirement already satisfied: pyparsing>=2.3.1 in c:\\users\\admin\\appdata\\local\\programs\\python\\python312\\lib\\site-packages (from matplotlib) (3.1.2)\n",
      "Requirement already satisfied: python-dateutil>=2.7 in c:\\users\\admin\\appdata\\roaming\\python\\python312\\site-packages (from matplotlib) (2.9.0.post0)\n",
      "Requirement already satisfied: six>=1.5 in c:\\users\\admin\\appdata\\roaming\\python\\python312\\site-packages (from python-dateutil>=2.7->matplotlib) (1.16.0)\n",
      "Note: you may need to restart the kernel to use updated packages.\n",
      "Requirement already satisfied: seaborn in c:\\users\\admin\\appdata\\local\\programs\\python\\python312\\lib\\site-packages (0.13.2)\n",
      "Requirement already satisfied: numpy!=1.24.0,>=1.20 in c:\\users\\admin\\appdata\\local\\programs\\python\\python312\\lib\\site-packages (from seaborn) (1.26.4)\n",
      "Requirement already satisfied: pandas>=1.2 in c:\\users\\admin\\appdata\\local\\programs\\python\\python312\\lib\\site-packages (from seaborn) (2.2.1)\n",
      "Requirement already satisfied: matplotlib!=3.6.1,>=3.4 in c:\\users\\admin\\appdata\\local\\programs\\python\\python312\\lib\\site-packages (from seaborn) (3.8.3)\n",
      "Requirement already satisfied: contourpy>=1.0.1 in c:\\users\\admin\\appdata\\local\\programs\\python\\python312\\lib\\site-packages (from matplotlib!=3.6.1,>=3.4->seaborn) (1.2.0)\n",
      "Requirement already satisfied: cycler>=0.10 in c:\\users\\admin\\appdata\\local\\programs\\python\\python312\\lib\\site-packages (from matplotlib!=3.6.1,>=3.4->seaborn) (0.12.1)\n",
      "Requirement already satisfied: fonttools>=4.22.0 in c:\\users\\admin\\appdata\\local\\programs\\python\\python312\\lib\\site-packages (from matplotlib!=3.6.1,>=3.4->seaborn) (4.49.0)\n",
      "Requirement already satisfied: kiwisolver>=1.3.1 in c:\\users\\admin\\appdata\\local\\programs\\python\\python312\\lib\\site-packages (from matplotlib!=3.6.1,>=3.4->seaborn) (1.4.5)\n",
      "Requirement already satisfied: packaging>=20.0 in c:\\users\\admin\\appdata\\roaming\\python\\python312\\site-packages (from matplotlib!=3.6.1,>=3.4->seaborn) (24.0)\n",
      "Requirement already satisfied: pillow>=8 in c:\\users\\admin\\appdata\\local\\programs\\python\\python312\\lib\\site-packages (from matplotlib!=3.6.1,>=3.4->seaborn) (10.2.0)\n",
      "Requirement already satisfied: pyparsing>=2.3.1 in c:\\users\\admin\\appdata\\local\\programs\\python\\python312\\lib\\site-packages (from matplotlib!=3.6.1,>=3.4->seaborn) (3.1.2)\n",
      "Requirement already satisfied: python-dateutil>=2.7 in c:\\users\\admin\\appdata\\roaming\\python\\python312\\site-packages (from matplotlib!=3.6.1,>=3.4->seaborn) (2.9.0.post0)\n",
      "Requirement already satisfied: pytz>=2020.1 in c:\\users\\admin\\appdata\\local\\programs\\python\\python312\\lib\\site-packages (from pandas>=1.2->seaborn) (2024.1)\n",
      "Requirement already satisfied: tzdata>=2022.7 in c:\\users\\admin\\appdata\\local\\programs\\python\\python312\\lib\\site-packages (from pandas>=1.2->seaborn) (2024.1)\n",
      "Requirement already satisfied: six>=1.5 in c:\\users\\admin\\appdata\\roaming\\python\\python312\\site-packages (from python-dateutil>=2.7->matplotlib!=3.6.1,>=3.4->seaborn) (1.16.0)\n",
      "Note: you may need to restart the kernel to use updated packages.\n"
     ]
    }
   ],
   "source": [
    "# Install required modules\n",
    "%pip install pandas\n",
    "%pip install matplotlib\n",
    "%pip install seaborn"
   ]
  },
  {
   "cell_type": "code",
   "execution_count": 2,
   "metadata": {},
   "outputs": [],
   "source": [
    "import pandas as pd "
   ]
  },
  {
   "cell_type": "code",
   "execution_count": 3,
   "metadata": {},
   "outputs": [
    {
     "data": {
      "text/html": [
       "<div>\n",
       "<style scoped>\n",
       "    .dataframe tbody tr th:only-of-type {\n",
       "        vertical-align: middle;\n",
       "    }\n",
       "\n",
       "    .dataframe tbody tr th {\n",
       "        vertical-align: top;\n",
       "    }\n",
       "\n",
       "    .dataframe thead th {\n",
       "        text-align: right;\n",
       "    }\n",
       "</style>\n",
       "<table border=\"1\" class=\"dataframe\">\n",
       "  <thead>\n",
       "    <tr style=\"text-align: right;\">\n",
       "      <th></th>\n",
       "      <th>created_at</th>\n",
       "      <th>tree_id</th>\n",
       "      <th>block_id</th>\n",
       "      <th>the_geom</th>\n",
       "      <th>tree_dbh</th>\n",
       "      <th>stump_diam</th>\n",
       "      <th>curb_loc</th>\n",
       "      <th>status</th>\n",
       "      <th>health</th>\n",
       "      <th>spc_latin</th>\n",
       "      <th>...</th>\n",
       "      <th>st_assem</th>\n",
       "      <th>st_senate</th>\n",
       "      <th>nta</th>\n",
       "      <th>nta_name</th>\n",
       "      <th>boro_ct</th>\n",
       "      <th>state</th>\n",
       "      <th>Latitude</th>\n",
       "      <th>longitude</th>\n",
       "      <th>x_sp</th>\n",
       "      <th>y_sp</th>\n",
       "    </tr>\n",
       "  </thead>\n",
       "  <tbody>\n",
       "    <tr>\n",
       "      <th>34322</th>\n",
       "      <td>09/10/2015</td>\n",
       "      <td>670901.0</td>\n",
       "      <td>307082.0</td>\n",
       "      <td>POINT (-73.81809800569752 40.724147796240764)</td>\n",
       "      <td>0.0</td>\n",
       "      <td>12</td>\n",
       "      <td>OnCurb</td>\n",
       "      <td>Stump</td>\n",
       "      <td>NaN</td>\n",
       "      <td>NaN</td>\n",
       "      <td>...</td>\n",
       "      <td>27.0</td>\n",
       "      <td>15.0</td>\n",
       "      <td>QN37</td>\n",
       "      <td>Kew Gardens Hills</td>\n",
       "      <td>4077907.0</td>\n",
       "      <td>New York</td>\n",
       "      <td>40.724148</td>\n",
       "      <td>-73.818098</td>\n",
       "      <td>1034669.63</td>\n",
       "      <td>203155.4632</td>\n",
       "    </tr>\n",
       "  </tbody>\n",
       "</table>\n",
       "<p>1 rows × 42 columns</p>\n",
       "</div>"
      ],
      "text/plain": [
       "       created_at   tree_id  block_id  \\\n",
       "34322  09/10/2015  670901.0  307082.0   \n",
       "\n",
       "                                            the_geom  tree_dbh  stump_diam  \\\n",
       "34322  POINT (-73.81809800569752 40.724147796240764)       0.0          12   \n",
       "\n",
       "      curb_loc status health spc_latin  ... st_assem st_senate   nta  \\\n",
       "34322   OnCurb  Stump    NaN       NaN  ...     27.0      15.0  QN37   \n",
       "\n",
       "                nta_name    boro_ct     state   Latitude  longitude  \\\n",
       "34322  Kew Gardens Hills  4077907.0  New York  40.724148 -73.818098   \n",
       "\n",
       "             x_sp         y_sp  \n",
       "34322  1034669.63  203155.4632  \n",
       "\n",
       "[1 rows x 42 columns]"
      ]
     },
     "execution_count": 3,
     "metadata": {},
     "output_type": "execute_result"
    }
   ],
   "source": [
    "# Import data abd show one observation\n",
    "df = pd.read_csv('../Data Cleaning with Pandas/Data/NewYorkTreesHealthCensus.csv')\n",
    "df.sample()"
   ]
  },
  {
   "cell_type": "markdown",
   "metadata": {},
   "source": [
    "## Explore the dataframe"
   ]
  },
  {
   "cell_type": "code",
   "execution_count": 28,
   "metadata": {},
   "outputs": [
    {
     "name": "stdout",
     "output_type": "stream",
     "text": [
      "<class 'pandas.core.frame.DataFrame'>\n",
      "RangeIndex: 50000 entries, 0 to 49999\n",
      "Data columns (total 42 columns):\n",
      " #   Column      Non-Null Count  Dtype  \n",
      "---  ------      --------------  -----  \n",
      " 0   created_at  50000 non-null  object \n",
      " 1   tree_id     49873 non-null  float64\n",
      " 2   block_id    49967 non-null  float64\n",
      " 3   the_geom    50000 non-null  object \n",
      " 4   tree_dbh    49895 non-null  float64\n",
      " 5   stump_diam  50000 non-null  int64  \n",
      " 6   curb_loc    50000 non-null  object \n",
      " 7   status      49674 non-null  object \n",
      " 8   health      47732 non-null  object \n",
      " 9   spc_latin   47732 non-null  object \n",
      " 10  spc_common  47732 non-null  object \n",
      " 11  steward     10715 non-null  object \n",
      " 12  guards      4953 non-null   object \n",
      " 13  sidewalk    47732 non-null  object \n",
      " 14  user_type   50000 non-null  object \n",
      " 15  problems    15603 non-null  object \n",
      " 16  root_stone  50000 non-null  object \n",
      " 17  root_grate  50000 non-null  object \n",
      " 18  root_other  50000 non-null  object \n",
      " 19  trnk_wire   50000 non-null  object \n",
      " 20  trnk_light  50000 non-null  object \n",
      " 21  trnk_other  50000 non-null  object \n",
      " 22  brnch_ligh  50000 non-null  object \n",
      " 23  brnch_shoe  50000 non-null  object \n",
      " 24  brnch_othe  50000 non-null  object \n",
      " 25  address     50000 non-null  object \n",
      " 26  zipcode     50000 non-null  int64  \n",
      " 27  zip_city    50000 non-null  object \n",
      " 28  cb_num      50000 non-null  float64\n",
      " 29  borocode    50000 non-null  float64\n",
      " 30  boroname    49976 non-null  object \n",
      " 31  cncldist    50000 non-null  float64\n",
      " 32  st_assem    50000 non-null  float64\n",
      " 33  st_senate   50000 non-null  float64\n",
      " 34  nta         50000 non-null  object \n",
      " 35  nta_name    50000 non-null  object \n",
      " 36  boro_ct     50000 non-null  float64\n",
      " 37  state       50000 non-null  object \n",
      " 38  Latitude    50000 non-null  float64\n",
      " 39  longitude   50000 non-null  float64\n",
      " 40  x_sp        50000 non-null  float64\n",
      " 41  y_sp        50000 non-null  float64\n",
      "dtypes: float64(13), int64(2), object(27)\n",
      "memory usage: 16.0+ MB\n"
     ]
    }
   ],
   "source": [
    "# View structure of dataframe\n",
    "df.info()"
   ]
  },
  {
   "cell_type": "code",
   "execution_count": 29,
   "metadata": {},
   "outputs": [
    {
     "name": "stdout",
     "output_type": "stream",
     "text": [
      "Dimension of data :  (50000, 42)\n",
      "Dataframe type :  <class 'pandas.core.frame.DataFrame'>\n"
     ]
    }
   ],
   "source": [
    "# Structure \n",
    "print('Dimension of data : ', df.shape)\n",
    "print('Dataframe type : ', type(df))"
   ]
  },
  {
   "cell_type": "markdown",
   "metadata": {},
   "source": [
    "This is a large dataset, lets subset the data by randomly selecting 5000 observations. "
   ]
  },
  {
   "cell_type": "code",
   "execution_count": 30,
   "metadata": {},
   "outputs": [
    {
     "data": {
      "text/plain": [
       "(2000, 42)"
      ]
     },
     "execution_count": 30,
     "metadata": {},
     "output_type": "execute_result"
    }
   ],
   "source": [
    "# Select 5000 random rows\n",
    "\n",
    "subset = df.sample(n=2000)\n",
    "subset.shape"
   ]
  },
  {
   "cell_type": "code",
   "execution_count": 31,
   "metadata": {},
   "outputs": [
    {
     "data": {
      "text/plain": [
       "created_at     object\n",
       "tree_id       float64\n",
       "block_id      float64\n",
       "the_geom       object\n",
       "tree_dbh      float64\n",
       "stump_diam      int64\n",
       "curb_loc       object\n",
       "status         object\n",
       "health         object\n",
       "spc_latin      object\n",
       "spc_common     object\n",
       "steward        object\n",
       "guards         object\n",
       "sidewalk       object\n",
       "user_type      object\n",
       "problems       object\n",
       "root_stone     object\n",
       "root_grate     object\n",
       "root_other     object\n",
       "trnk_wire      object\n",
       "trnk_light     object\n",
       "trnk_other     object\n",
       "brnch_ligh     object\n",
       "brnch_shoe     object\n",
       "brnch_othe     object\n",
       "address        object\n",
       "zipcode         int64\n",
       "zip_city       object\n",
       "cb_num        float64\n",
       "borocode      float64\n",
       "boroname       object\n",
       "cncldist      float64\n",
       "st_assem      float64\n",
       "st_senate     float64\n",
       "nta            object\n",
       "nta_name       object\n",
       "boro_ct       float64\n",
       "state          object\n",
       "Latitude      float64\n",
       "longitude     float64\n",
       "x_sp          float64\n",
       "y_sp          float64\n",
       "dtype: object"
      ]
     },
     "execution_count": 31,
     "metadata": {},
     "output_type": "execute_result"
    }
   ],
   "source": [
    "# Column data types\n",
    "subset.dtypes"
   ]
  },
  {
   "cell_type": "code",
   "execution_count": 32,
   "metadata": {},
   "outputs": [
    {
     "data": {
      "text/plain": [
       "array(['created_at', 'tree_id', 'block_id', 'the_geom', 'tree_dbh',\n",
       "       'stump_diam', 'curb_loc', 'status', 'health', 'spc_latin',\n",
       "       'spc_common', 'steward', 'guards', 'sidewalk', 'user_type',\n",
       "       'problems', 'root_stone', 'root_grate', 'root_other', 'trnk_wire',\n",
       "       'trnk_light', 'trnk_other', 'brnch_ligh', 'brnch_shoe',\n",
       "       'brnch_othe', 'address', 'zipcode', 'zip_city', 'cb_num',\n",
       "       'borocode', 'boroname', 'cncldist', 'st_assem', 'st_senate', 'nta',\n",
       "       'nta_name', 'boro_ct', 'state', 'Latitude', 'longitude', 'x_sp',\n",
       "       'y_sp'], dtype=object)"
      ]
     },
     "execution_count": 32,
     "metadata": {},
     "output_type": "execute_result"
    }
   ],
   "source": [
    "# Print column names\n",
    "subset.columns.values"
   ]
  },
  {
   "cell_type": "code",
   "execution_count": 33,
   "metadata": {},
   "outputs": [
    {
     "data": {
      "text/html": [
       "<div>\n",
       "<style scoped>\n",
       "    .dataframe tbody tr th:only-of-type {\n",
       "        vertical-align: middle;\n",
       "    }\n",
       "\n",
       "    .dataframe tbody tr th {\n",
       "        vertical-align: top;\n",
       "    }\n",
       "\n",
       "    .dataframe thead th {\n",
       "        text-align: right;\n",
       "    }\n",
       "</style>\n",
       "<table border=\"1\" class=\"dataframe\">\n",
       "  <thead>\n",
       "    <tr style=\"text-align: right;\">\n",
       "      <th></th>\n",
       "      <th>tree_id</th>\n",
       "      <th>block_id</th>\n",
       "      <th>tree_dbh</th>\n",
       "      <th>stump_diam</th>\n",
       "      <th>zipcode</th>\n",
       "      <th>cb_num</th>\n",
       "      <th>borocode</th>\n",
       "      <th>cncldist</th>\n",
       "      <th>st_assem</th>\n",
       "      <th>st_senate</th>\n",
       "      <th>boro_ct</th>\n",
       "      <th>Latitude</th>\n",
       "      <th>longitude</th>\n",
       "      <th>x_sp</th>\n",
       "      <th>y_sp</th>\n",
       "    </tr>\n",
       "  </thead>\n",
       "  <tbody>\n",
       "    <tr>\n",
       "      <th>count</th>\n",
       "      <td>1998.000000</td>\n",
       "      <td>2000.000000</td>\n",
       "      <td>1996.000000</td>\n",
       "      <td>2000.000000</td>\n",
       "      <td>2000.000000</td>\n",
       "      <td>2000.000000</td>\n",
       "      <td>2000.000000</td>\n",
       "      <td>2000.000000</td>\n",
       "      <td>2000.000000</td>\n",
       "      <td>2000.000000</td>\n",
       "      <td>2.000000e+03</td>\n",
       "      <td>2000.000000</td>\n",
       "      <td>2000.000000</td>\n",
       "      <td>2.000000e+03</td>\n",
       "      <td>2000.000000</td>\n",
       "    </tr>\n",
       "    <tr>\n",
       "      <th>mean</th>\n",
       "      <td>441319.872873</td>\n",
       "      <td>324016.013000</td>\n",
       "      <td>11.741483</td>\n",
       "      <td>0.424500</td>\n",
       "      <td>10935.374000</td>\n",
       "      <td>354.859000</td>\n",
       "      <td>3.469500</td>\n",
       "      <td>30.730000</td>\n",
       "      <td>49.698500</td>\n",
       "      <td>20.100500</td>\n",
       "      <td>3.518471e+06</td>\n",
       "      <td>40.697407</td>\n",
       "      <td>-73.917520</td>\n",
       "      <td>1.007093e+06</td>\n",
       "      <td>193398.114824</td>\n",
       "    </tr>\n",
       "    <tr>\n",
       "      <th>std</th>\n",
       "      <td>153626.251227</td>\n",
       "      <td>109559.603634</td>\n",
       "      <td>8.762205</td>\n",
       "      <td>3.185651</td>\n",
       "      <td>738.585118</td>\n",
       "      <td>109.954696</td>\n",
       "      <td>1.110714</td>\n",
       "      <td>13.956521</td>\n",
       "      <td>19.332161</td>\n",
       "      <td>7.422058</td>\n",
       "      <td>1.118382e+06</td>\n",
       "      <td>0.090523</td>\n",
       "      <td>0.129088</td>\n",
       "      <td>3.581378e+04</td>\n",
       "      <td>32979.708267</td>\n",
       "    </tr>\n",
       "    <tr>\n",
       "      <th>min</th>\n",
       "      <td>20330.000000</td>\n",
       "      <td>100597.000000</td>\n",
       "      <td>0.000000</td>\n",
       "      <td>0.000000</td>\n",
       "      <td>83.000000</td>\n",
       "      <td>101.000000</td>\n",
       "      <td>1.000000</td>\n",
       "      <td>1.000000</td>\n",
       "      <td>23.000000</td>\n",
       "      <td>10.000000</td>\n",
       "      <td>1.000202e+06</td>\n",
       "      <td>40.499542</td>\n",
       "      <td>-74.251794</td>\n",
       "      <td>9.142346e+05</td>\n",
       "      <td>121368.503400</td>\n",
       "    </tr>\n",
       "    <tr>\n",
       "      <th>25%</th>\n",
       "      <td>307981.000000</td>\n",
       "      <td>226213.500000</td>\n",
       "      <td>5.000000</td>\n",
       "      <td>0.000000</td>\n",
       "      <td>10456.000000</td>\n",
       "      <td>305.000000</td>\n",
       "      <td>3.000000</td>\n",
       "      <td>20.000000</td>\n",
       "      <td>31.000000</td>\n",
       "      <td>14.000000</td>\n",
       "      <td>3.024375e+06</td>\n",
       "      <td>40.626434</td>\n",
       "      <td>-73.976255</td>\n",
       "      <td>9.908270e+05</td>\n",
       "      <td>167523.216975</td>\n",
       "    </tr>\n",
       "    <tr>\n",
       "      <th>50%</th>\n",
       "      <td>440019.000000</td>\n",
       "      <td>325225.000000</td>\n",
       "      <td>10.000000</td>\n",
       "      <td>0.000000</td>\n",
       "      <td>11220.000000</td>\n",
       "      <td>405.000000</td>\n",
       "      <td>4.000000</td>\n",
       "      <td>30.000000</td>\n",
       "      <td>49.000000</td>\n",
       "      <td>19.000000</td>\n",
       "      <td>4.028300e+06</td>\n",
       "      <td>40.696402</td>\n",
       "      <td>-73.901262</td>\n",
       "      <td>1.011582e+06</td>\n",
       "      <td>193012.820750</td>\n",
       "    </tr>\n",
       "    <tr>\n",
       "      <th>75%</th>\n",
       "      <td>574565.750000</td>\n",
       "      <td>406132.750000</td>\n",
       "      <td>17.000000</td>\n",
       "      <td>0.000000</td>\n",
       "      <td>11369.250000</td>\n",
       "      <td>413.000000</td>\n",
       "      <td>4.000000</td>\n",
       "      <td>44.000000</td>\n",
       "      <td>63.000000</td>\n",
       "      <td>24.000000</td>\n",
       "      <td>4.110250e+06</td>\n",
       "      <td>40.758836</td>\n",
       "      <td>-73.823926</td>\n",
       "      <td>1.033052e+06</td>\n",
       "      <td>215761.498200</td>\n",
       "    </tr>\n",
       "    <tr>\n",
       "      <th>max</th>\n",
       "      <td>720875.000000</td>\n",
       "      <td>602415.000000</td>\n",
       "      <td>56.000000</td>\n",
       "      <td>62.000000</td>\n",
       "      <td>11694.000000</td>\n",
       "      <td>503.000000</td>\n",
       "      <td>5.000000</td>\n",
       "      <td>51.000000</td>\n",
       "      <td>87.000000</td>\n",
       "      <td>36.000000</td>\n",
       "      <td>5.031902e+06</td>\n",
       "      <td>40.906710</td>\n",
       "      <td>-73.701497</td>\n",
       "      <td>1.066972e+06</td>\n",
       "      <td>269632.068100</td>\n",
       "    </tr>\n",
       "  </tbody>\n",
       "</table>\n",
       "</div>"
      ],
      "text/plain": [
       "             tree_id       block_id     tree_dbh   stump_diam       zipcode  \\\n",
       "count    1998.000000    2000.000000  1996.000000  2000.000000   2000.000000   \n",
       "mean   441319.872873  324016.013000    11.741483     0.424500  10935.374000   \n",
       "std    153626.251227  109559.603634     8.762205     3.185651    738.585118   \n",
       "min     20330.000000  100597.000000     0.000000     0.000000     83.000000   \n",
       "25%    307981.000000  226213.500000     5.000000     0.000000  10456.000000   \n",
       "50%    440019.000000  325225.000000    10.000000     0.000000  11220.000000   \n",
       "75%    574565.750000  406132.750000    17.000000     0.000000  11369.250000   \n",
       "max    720875.000000  602415.000000    56.000000    62.000000  11694.000000   \n",
       "\n",
       "            cb_num     borocode     cncldist     st_assem    st_senate  \\\n",
       "count  2000.000000  2000.000000  2000.000000  2000.000000  2000.000000   \n",
       "mean    354.859000     3.469500    30.730000    49.698500    20.100500   \n",
       "std     109.954696     1.110714    13.956521    19.332161     7.422058   \n",
       "min     101.000000     1.000000     1.000000    23.000000    10.000000   \n",
       "25%     305.000000     3.000000    20.000000    31.000000    14.000000   \n",
       "50%     405.000000     4.000000    30.000000    49.000000    19.000000   \n",
       "75%     413.000000     4.000000    44.000000    63.000000    24.000000   \n",
       "max     503.000000     5.000000    51.000000    87.000000    36.000000   \n",
       "\n",
       "            boro_ct     Latitude    longitude          x_sp           y_sp  \n",
       "count  2.000000e+03  2000.000000  2000.000000  2.000000e+03    2000.000000  \n",
       "mean   3.518471e+06    40.697407   -73.917520  1.007093e+06  193398.114824  \n",
       "std    1.118382e+06     0.090523     0.129088  3.581378e+04   32979.708267  \n",
       "min    1.000202e+06    40.499542   -74.251794  9.142346e+05  121368.503400  \n",
       "25%    3.024375e+06    40.626434   -73.976255  9.908270e+05  167523.216975  \n",
       "50%    4.028300e+06    40.696402   -73.901262  1.011582e+06  193012.820750  \n",
       "75%    4.110250e+06    40.758836   -73.823926  1.033052e+06  215761.498200  \n",
       "max    5.031902e+06    40.906710   -73.701497  1.066972e+06  269632.068100  "
      ]
     },
     "execution_count": 33,
     "metadata": {},
     "output_type": "execute_result"
    }
   ],
   "source": [
    "# Check columns of integer values\n",
    "subset.describe()"
   ]
  },
  {
   "cell_type": "code",
   "execution_count": 34,
   "metadata": {},
   "outputs": [
    {
     "data": {
      "text/plain": [
       "array(['created_at', 'tree_id', 'tree_dbh', 'status', 'address',\n",
       "       'boroname', 'Latitude', 'longitude'], dtype=object)"
      ]
     },
     "execution_count": 34,
     "metadata": {},
     "output_type": "execute_result"
    }
   ],
   "source": [
    "# Select few columns \n",
    "df2 = subset[['created_at','tree_id','tree_dbh','status','address','boroname','Latitude', 'longitude']]\n",
    "df2.columns.values"
   ]
  },
  {
   "cell_type": "code",
   "execution_count": 35,
   "metadata": {},
   "outputs": [
    {
     "data": {
      "text/html": [
       "<div>\n",
       "<style scoped>\n",
       "    .dataframe tbody tr th:only-of-type {\n",
       "        vertical-align: middle;\n",
       "    }\n",
       "\n",
       "    .dataframe tbody tr th {\n",
       "        vertical-align: top;\n",
       "    }\n",
       "\n",
       "    .dataframe thead th {\n",
       "        text-align: right;\n",
       "    }\n",
       "</style>\n",
       "<table border=\"1\" class=\"dataframe\">\n",
       "  <thead>\n",
       "    <tr style=\"text-align: right;\">\n",
       "      <th></th>\n",
       "      <th>created_at</th>\n",
       "      <th>tree_id</th>\n",
       "      <th>tree_dbh</th>\n",
       "      <th>status</th>\n",
       "      <th>address</th>\n",
       "      <th>boroname</th>\n",
       "      <th>Latitude</th>\n",
       "      <th>longitude</th>\n",
       "    </tr>\n",
       "  </thead>\n",
       "  <tbody>\n",
       "    <tr>\n",
       "      <th>46480</th>\n",
       "      <td>09/14/2015</td>\n",
       "      <td>656048.0</td>\n",
       "      <td>31.0</td>\n",
       "      <td>Alive</td>\n",
       "      <td>244-040 90 AVENUE</td>\n",
       "      <td>Queens</td>\n",
       "      <td>40.726724</td>\n",
       "      <td>-73.722530</td>\n",
       "    </tr>\n",
       "    <tr>\n",
       "      <th>37826</th>\n",
       "      <td>11/09/2015</td>\n",
       "      <td>450362.0</td>\n",
       "      <td>8.0</td>\n",
       "      <td>Alive</td>\n",
       "      <td>256 LACONIA AVENUE</td>\n",
       "      <td>Staten Island</td>\n",
       "      <td>40.588902</td>\n",
       "      <td>-74.087436</td>\n",
       "    </tr>\n",
       "    <tr>\n",
       "      <th>27433</th>\n",
       "      <td>11/13/2015</td>\n",
       "      <td>446224.0</td>\n",
       "      <td>7.0</td>\n",
       "      <td>Alive</td>\n",
       "      <td>240-041 ARLEIGH ROAD</td>\n",
       "      <td>Queens</td>\n",
       "      <td>40.775642</td>\n",
       "      <td>-73.746701</td>\n",
       "    </tr>\n",
       "    <tr>\n",
       "      <th>4714</th>\n",
       "      <td>12/09/2015</td>\n",
       "      <td>374987.0</td>\n",
       "      <td>4.0</td>\n",
       "      <td>Alive</td>\n",
       "      <td>1500 BLONDELL AVENUE</td>\n",
       "      <td>Bronx</td>\n",
       "      <td>40.845805</td>\n",
       "      <td>-73.844877</td>\n",
       "    </tr>\n",
       "    <tr>\n",
       "      <th>43319</th>\n",
       "      <td>09/14/2015</td>\n",
       "      <td>683376.0</td>\n",
       "      <td>4.0</td>\n",
       "      <td>Alive</td>\n",
       "      <td>2345 EAST 74 STREET</td>\n",
       "      <td>Brooklyn</td>\n",
       "      <td>40.617193</td>\n",
       "      <td>-73.900734</td>\n",
       "    </tr>\n",
       "  </tbody>\n",
       "</table>\n",
       "</div>"
      ],
      "text/plain": [
       "       created_at   tree_id  tree_dbh status               address  \\\n",
       "46480  09/14/2015  656048.0      31.0  Alive     244-040 90 AVENUE   \n",
       "37826  11/09/2015  450362.0       8.0  Alive    256 LACONIA AVENUE   \n",
       "27433  11/13/2015  446224.0       7.0  Alive  240-041 ARLEIGH ROAD   \n",
       "4714   12/09/2015  374987.0       4.0  Alive  1500 BLONDELL AVENUE   \n",
       "43319  09/14/2015  683376.0       4.0  Alive   2345 EAST 74 STREET   \n",
       "\n",
       "            boroname   Latitude  longitude  \n",
       "46480         Queens  40.726724 -73.722530  \n",
       "37826  Staten Island  40.588902 -74.087436  \n",
       "27433         Queens  40.775642 -73.746701  \n",
       "4714           Bronx  40.845805 -73.844877  \n",
       "43319       Brooklyn  40.617193 -73.900734  "
      ]
     },
     "execution_count": 35,
     "metadata": {},
     "output_type": "execute_result"
    }
   ],
   "source": [
    "# Check the first 5 observations\n",
    "df2.head()"
   ]
  },
  {
   "cell_type": "code",
   "execution_count": 25,
   "metadata": {},
   "outputs": [
    {
     "data": {
      "text/html": [
       "<div>\n",
       "<style scoped>\n",
       "    .dataframe tbody tr th:only-of-type {\n",
       "        vertical-align: middle;\n",
       "    }\n",
       "\n",
       "    .dataframe tbody tr th {\n",
       "        vertical-align: top;\n",
       "    }\n",
       "\n",
       "    .dataframe thead th {\n",
       "        text-align: right;\n",
       "    }\n",
       "</style>\n",
       "<table border=\"1\" class=\"dataframe\">\n",
       "  <thead>\n",
       "    <tr style=\"text-align: right;\">\n",
       "      <th></th>\n",
       "      <th>created_at</th>\n",
       "      <th>tree_id</th>\n",
       "      <th>tree_dbh</th>\n",
       "      <th>status</th>\n",
       "      <th>address</th>\n",
       "      <th>boroname</th>\n",
       "      <th>Latitude</th>\n",
       "      <th>longitude</th>\n",
       "    </tr>\n",
       "  </thead>\n",
       "  <tbody>\n",
       "    <tr>\n",
       "      <th>179677</th>\n",
       "      <td>10/22/2015</td>\n",
       "      <td>517159.0</td>\n",
       "      <td>22.0</td>\n",
       "      <td>Alive</td>\n",
       "      <td>1946 OCEAN PARKWAY</td>\n",
       "      <td>Brooklyn</td>\n",
       "      <td>40.601339</td>\n",
       "      <td>-73.966477</td>\n",
       "    </tr>\n",
       "    <tr>\n",
       "      <th>499881</th>\n",
       "      <td>08/31/2016</td>\n",
       "      <td>23338.0</td>\n",
       "      <td>7.0</td>\n",
       "      <td>Alive</td>\n",
       "      <td>163-023 19 AVENUE</td>\n",
       "      <td>Queens</td>\n",
       "      <td>40.780878</td>\n",
       "      <td>-73.799250</td>\n",
       "    </tr>\n",
       "    <tr>\n",
       "      <th>138213</th>\n",
       "      <td>10/14/2015</td>\n",
       "      <td>562175.0</td>\n",
       "      <td>28.0</td>\n",
       "      <td>Alive</td>\n",
       "      <td>2765 EAST 64 STREET</td>\n",
       "      <td>Brooklyn</td>\n",
       "      <td>40.606020</td>\n",
       "      <td>-73.913821</td>\n",
       "    </tr>\n",
       "    <tr>\n",
       "      <th>486439</th>\n",
       "      <td>09/10/2016</td>\n",
       "      <td>192021.0</td>\n",
       "      <td>17.0</td>\n",
       "      <td>Alive</td>\n",
       "      <td>132 MOFFAT STREET</td>\n",
       "      <td>Brooklyn</td>\n",
       "      <td>40.686420</td>\n",
       "      <td>-73.907421</td>\n",
       "    </tr>\n",
       "    <tr>\n",
       "      <th>483996</th>\n",
       "      <td>09/07/2016</td>\n",
       "      <td>196136.0</td>\n",
       "      <td>3.0</td>\n",
       "      <td>Alive</td>\n",
       "      <td>171 GRAHAM BOULEVARD</td>\n",
       "      <td>Staten Island</td>\n",
       "      <td>40.577701</td>\n",
       "      <td>-74.088443</td>\n",
       "    </tr>\n",
       "  </tbody>\n",
       "</table>\n",
       "</div>"
      ],
      "text/plain": [
       "        created_at   tree_id  tree_dbh status               address  \\\n",
       "179677  10/22/2015  517159.0      22.0  Alive    1946 OCEAN PARKWAY   \n",
       "499881  08/31/2016   23338.0       7.0  Alive     163-023 19 AVENUE   \n",
       "138213  10/14/2015  562175.0      28.0  Alive   2765 EAST 64 STREET   \n",
       "486439  09/10/2016  192021.0      17.0  Alive     132 MOFFAT STREET   \n",
       "483996  09/07/2016  196136.0       3.0  Alive  171 GRAHAM BOULEVARD   \n",
       "\n",
       "             boroname   Latitude  longitude  \n",
       "179677       Brooklyn  40.601339 -73.966477  \n",
       "499881         Queens  40.780878 -73.799250  \n",
       "138213       Brooklyn  40.606020 -73.913821  \n",
       "486439       Brooklyn  40.686420 -73.907421  \n",
       "483996  Staten Island  40.577701 -74.088443  "
      ]
     },
     "execution_count": 25,
     "metadata": {},
     "output_type": "execute_result"
    }
   ],
   "source": [
    "# Check the first 5 observations\n",
    "df2.tail()"
   ]
  },
  {
   "cell_type": "markdown",
   "metadata": {},
   "source": [
    "## Duplicate Values.\n",
    "\n",
    "These are rows that have exactly the same values across all columns. Since the tree_id uniqely identifies each tree, we will count values in this column."
   ]
  },
  {
   "cell_type": "code",
   "execution_count": 38,
   "metadata": {},
   "outputs": [
    {
     "ename": "AttributeError",
     "evalue": "'int' object has no attribute 'size'",
     "output_type": "error",
     "traceback": [
      "\u001b[1;31m---------------------------------------------------------------------------\u001b[0m",
      "\u001b[1;31mAttributeError\u001b[0m                            Traceback (most recent call last)",
      "Cell \u001b[1;32mIn[38], line 2\u001b[0m\n\u001b[0;32m      1\u001b[0m duplicates \u001b[38;5;241m=\u001b[39m \u001b[38;5;28mlen\u001b[39m(df2[\u001b[38;5;124m'\u001b[39m\u001b[38;5;124mtree_id\u001b[39m\u001b[38;5;124m'\u001b[39m])\u001b[38;5;241m-\u001b[39m\u001b[38;5;28mlen\u001b[39m(df2[\u001b[38;5;124m'\u001b[39m\u001b[38;5;124mtree_id\u001b[39m\u001b[38;5;124m'\u001b[39m]\u001b[38;5;241m.\u001b[39mdrop_duplicates())\n\u001b[1;32m----> 2\u001b[0m \u001b[43mduplicates\u001b[49m\u001b[38;5;241;43m.\u001b[39;49m\u001b[43msize\u001b[49m\n",
      "\u001b[1;31mAttributeError\u001b[0m: 'int' object has no attribute 'size'"
     ]
    }
   ],
   "source": [
    "duplicates = len(df2['tree_id'])-len(df2['tree_id'].drop_duplicates())\n",
    "duplicates"
   ]
  },
  {
   "cell_type": "code",
   "execution_count": 37,
   "metadata": {},
   "outputs": [
    {
     "data": {
      "text/plain": [
       "2000"
      ]
     },
     "execution_count": 37,
     "metadata": {},
     "output_type": "execute_result"
    }
   ],
   "source": [
    "\n"
   ]
  },
  {
   "cell_type": "code",
   "execution_count": 117,
   "metadata": {},
   "outputs": [
    {
     "data": {
      "text/plain": [
       "0"
      ]
     },
     "execution_count": 117,
     "metadata": {},
     "output_type": "execute_result"
    }
   ],
   "source": [
    "duplicates = len(df2)-len(df2.drop_duplicates())\n",
    "duplicates\n"
   ]
  },
  {
   "cell_type": "markdown",
   "metadata": {},
   "source": [
    "## Missing Values."
   ]
  },
  {
   "cell_type": "code",
   "execution_count": 95,
   "metadata": {},
   "outputs": [
    {
     "name": "stdout",
     "output_type": "stream",
     "text": [
      "created_at    False\n",
      "tree_id        True\n",
      "tree_dbh      False\n",
      "status         True\n",
      "address       False\n",
      "boroname      False\n",
      "Latitude      False\n",
      "longitude     False\n",
      "dtype: bool\n"
     ]
    }
   ],
   "source": [
    "# Check if any column contains a muissing value\n",
    "print(df2.isnull().any())"
   ]
  }
 ],
 "metadata": {
  "kernelspec": {
   "display_name": "Python 3",
   "language": "python",
   "name": "python3"
  },
  "language_info": {
   "codemirror_mode": {
    "name": "ipython",
    "version": 3
   },
   "file_extension": ".py",
   "mimetype": "text/x-python",
   "name": "python",
   "nbconvert_exporter": "python",
   "pygments_lexer": "ipython3",
   "version": "3.12.2"
  }
 },
 "nbformat": 4,
 "nbformat_minor": 2
}
