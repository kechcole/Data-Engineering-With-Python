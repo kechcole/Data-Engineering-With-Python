{
 "cells": [
  {
   "cell_type": "markdown",
   "metadata": {},
   "source": [
    " # DATA CLEANING WITH PANDAS\n",
    "\n",
    "\n",
    " Data source - https://data.cityofnewyork.us/Environment/2015-Street-Tree-Census-Tree-Data/uvpi-gqnh/about_data\n",
    "\n",
    "Handling pandas dataframe - https://sparkbyexamples.com/pandas/how-to-count-duplicates-in-pandas-dataframe/\n"
   ]
  },
  {
   "cell_type": "code",
   "execution_count": 1,
   "metadata": {},
   "outputs": [
    {
     "name": "stdout",
     "output_type": "stream",
     "text": [
      "Requirement already satisfied: pandas in c:\\users\\admin\\appdata\\local\\programs\\python\\python312\\lib\\site-packages (2.2.1)Note: you may need to restart the kernel to use updated packages.\n",
      "\n",
      "Requirement already satisfied: numpy<2,>=1.26.0 in c:\\users\\admin\\appdata\\local\\programs\\python\\python312\\lib\\site-packages (from pandas) (1.26.4)\n",
      "Requirement already satisfied: python-dateutil>=2.8.2 in c:\\users\\admin\\appdata\\roaming\\python\\python312\\site-packages (from pandas) (2.9.0.post0)\n",
      "Requirement already satisfied: pytz>=2020.1 in c:\\users\\admin\\appdata\\local\\programs\\python\\python312\\lib\\site-packages (from pandas) (2024.1)\n",
      "Requirement already satisfied: tzdata>=2022.7 in c:\\users\\admin\\appdata\\local\\programs\\python\\python312\\lib\\site-packages (from pandas) (2024.1)\n",
      "Requirement already satisfied: six>=1.5 in c:\\users\\admin\\appdata\\roaming\\python\\python312\\site-packages (from python-dateutil>=2.8.2->pandas) (1.16.0)\n",
      "Requirement already satisfied: matplotlib in c:\\users\\admin\\appdata\\local\\programs\\python\\python312\\lib\\site-packages (3.8.3)\n",
      "Requirement already satisfied: contourpy>=1.0.1 in c:\\users\\admin\\appdata\\local\\programs\\python\\python312\\lib\\site-packages (from matplotlib) (1.2.0)\n",
      "Requirement already satisfied: cycler>=0.10 in c:\\users\\admin\\appdata\\local\\programs\\python\\python312\\lib\\site-packages (from matplotlib) (0.12.1)\n",
      "Requirement already satisfied: fonttools>=4.22.0 in c:\\users\\admin\\appdata\\local\\programs\\python\\python312\\lib\\site-packages (from matplotlib) (4.49.0)\n",
      "Requirement already satisfied: kiwisolver>=1.3.1 in c:\\users\\admin\\appdata\\local\\programs\\python\\python312\\lib\\site-packages (from matplotlib) (1.4.5)\n",
      "Requirement already satisfied: numpy<2,>=1.21 in c:\\users\\admin\\appdata\\local\\programs\\python\\python312\\lib\\site-packages (from matplotlib) (1.26.4)\n",
      "Requirement already satisfied: packaging>=20.0 in c:\\users\\admin\\appdata\\roaming\\python\\python312\\site-packages (from matplotlib) (24.0)\n",
      "Requirement already satisfied: pillow>=8 in c:\\users\\admin\\appdata\\local\\programs\\python\\python312\\lib\\site-packages (from matplotlib) (10.2.0)\n",
      "Requirement already satisfied: pyparsing>=2.3.1 in c:\\users\\admin\\appdata\\local\\programs\\python\\python312\\lib\\site-packages (from matplotlib) (3.1.2)\n",
      "Requirement already satisfied: python-dateutil>=2.7 in c:\\users\\admin\\appdata\\roaming\\python\\python312\\site-packages (from matplotlib) (2.9.0.post0)\n",
      "Requirement already satisfied: six>=1.5 in c:\\users\\admin\\appdata\\roaming\\python\\python312\\site-packages (from python-dateutil>=2.7->matplotlib) (1.16.0)\n",
      "Note: you may need to restart the kernel to use updated packages.\n",
      "Requirement already satisfied: seaborn in c:\\users\\admin\\appdata\\local\\programs\\python\\python312\\lib\\site-packages (0.13.2)\n",
      "Requirement already satisfied: numpy!=1.24.0,>=1.20 in c:\\users\\admin\\appdata\\local\\programs\\python\\python312\\lib\\site-packages (from seaborn) (1.26.4)\n",
      "Requirement already satisfied: pandas>=1.2 in c:\\users\\admin\\appdata\\local\\programs\\python\\python312\\lib\\site-packages (from seaborn) (2.2.1)\n",
      "Requirement already satisfied: matplotlib!=3.6.1,>=3.4 in c:\\users\\admin\\appdata\\local\\programs\\python\\python312\\lib\\site-packages (from seaborn) (3.8.3)\n",
      "Requirement already satisfied: contourpy>=1.0.1 in c:\\users\\admin\\appdata\\local\\programs\\python\\python312\\lib\\site-packages (from matplotlib!=3.6.1,>=3.4->seaborn) (1.2.0)\n",
      "Requirement already satisfied: cycler>=0.10 in c:\\users\\admin\\appdata\\local\\programs\\python\\python312\\lib\\site-packages (from matplotlib!=3.6.1,>=3.4->seaborn) (0.12.1)\n",
      "Requirement already satisfied: fonttools>=4.22.0 in c:\\users\\admin\\appdata\\local\\programs\\python\\python312\\lib\\site-packages (from matplotlib!=3.6.1,>=3.4->seaborn) (4.49.0)\n",
      "Requirement already satisfied: kiwisolver>=1.3.1 in c:\\users\\admin\\appdata\\local\\programs\\python\\python312\\lib\\site-packages (from matplotlib!=3.6.1,>=3.4->seaborn) (1.4.5)\n",
      "Requirement already satisfied: packaging>=20.0 in c:\\users\\admin\\appdata\\roaming\\python\\python312\\site-packages (from matplotlib!=3.6.1,>=3.4->seaborn) (24.0)\n",
      "Requirement already satisfied: pillow>=8 in c:\\users\\admin\\appdata\\local\\programs\\python\\python312\\lib\\site-packages (from matplotlib!=3.6.1,>=3.4->seaborn) (10.2.0)\n",
      "Requirement already satisfied: pyparsing>=2.3.1 in c:\\users\\admin\\appdata\\local\\programs\\python\\python312\\lib\\site-packages (from matplotlib!=3.6.1,>=3.4->seaborn) (3.1.2)\n",
      "Requirement already satisfied: python-dateutil>=2.7 in c:\\users\\admin\\appdata\\roaming\\python\\python312\\site-packages (from matplotlib!=3.6.1,>=3.4->seaborn) (2.9.0.post0)\n",
      "Requirement already satisfied: pytz>=2020.1 in c:\\users\\admin\\appdata\\local\\programs\\python\\python312\\lib\\site-packages (from pandas>=1.2->seaborn) (2024.1)\n",
      "Requirement already satisfied: tzdata>=2022.7 in c:\\users\\admin\\appdata\\local\\programs\\python\\python312\\lib\\site-packages (from pandas>=1.2->seaborn) (2024.1)\n",
      "Requirement already satisfied: six>=1.5 in c:\\users\\admin\\appdata\\roaming\\python\\python312\\site-packages (from python-dateutil>=2.7->matplotlib!=3.6.1,>=3.4->seaborn) (1.16.0)\n",
      "Note: you may need to restart the kernel to use updated packages.\n"
     ]
    }
   ],
   "source": [
    "# Install required modules\n",
    "%pip install pandas\n",
    "%pip install matplotlib\n",
    "%pip install seaborn"
   ]
  },
  {
   "cell_type": "code",
   "execution_count": 2,
   "metadata": {},
   "outputs": [],
   "source": [
    "import pandas as pd "
   ]
  },
  {
   "cell_type": "code",
   "execution_count": 28,
   "metadata": {},
   "outputs": [
    {
     "data": {
      "text/html": [
       "<div>\n",
       "<style scoped>\n",
       "    .dataframe tbody tr th:only-of-type {\n",
       "        vertical-align: middle;\n",
       "    }\n",
       "\n",
       "    .dataframe tbody tr th {\n",
       "        vertical-align: top;\n",
       "    }\n",
       "\n",
       "    .dataframe thead th {\n",
       "        text-align: right;\n",
       "    }\n",
       "</style>\n",
       "<table border=\"1\" class=\"dataframe\">\n",
       "  <thead>\n",
       "    <tr style=\"text-align: right;\">\n",
       "      <th></th>\n",
       "      <th>created_at</th>\n",
       "      <th>tree_id</th>\n",
       "      <th>block_id</th>\n",
       "      <th>the_geom</th>\n",
       "      <th>tree_dbh</th>\n",
       "      <th>stump_diam</th>\n",
       "      <th>curb_loc</th>\n",
       "      <th>status</th>\n",
       "      <th>health</th>\n",
       "      <th>spc_latin</th>\n",
       "      <th>...</th>\n",
       "      <th>st_assem</th>\n",
       "      <th>st_senate</th>\n",
       "      <th>nta</th>\n",
       "      <th>nta_name</th>\n",
       "      <th>boro_ct</th>\n",
       "      <th>state</th>\n",
       "      <th>Latitude</th>\n",
       "      <th>longitude</th>\n",
       "      <th>x_sp</th>\n",
       "      <th>y_sp</th>\n",
       "    </tr>\n",
       "  </thead>\n",
       "  <tbody>\n",
       "    <tr>\n",
       "      <th>41099</th>\n",
       "      <td>09/13/2015</td>\n",
       "      <td>673691.0</td>\n",
       "      <td>106330.0</td>\n",
       "      <td>POINT (-73.97538799678885 40.77940498870209)</td>\n",
       "      <td>23.0</td>\n",
       "      <td>0</td>\n",
       "      <td>OnCurb</td>\n",
       "      <td>Alive</td>\n",
       "      <td>Good</td>\n",
       "      <td>Pyrus calleryana</td>\n",
       "      <td>...</td>\n",
       "      <td>67.0</td>\n",
       "      <td>29.0</td>\n",
       "      <td>MN12</td>\n",
       "      <td>Upper West Side</td>\n",
       "      <td>1016100.0</td>\n",
       "      <td>New York</td>\n",
       "      <td>40.779405</td>\n",
       "      <td>-73.975388</td>\n",
       "      <td>991066.3082</td>\n",
       "      <td>223236.0519</td>\n",
       "    </tr>\n",
       "  </tbody>\n",
       "</table>\n",
       "<p>1 rows × 42 columns</p>\n",
       "</div>"
      ],
      "text/plain": [
       "       created_at   tree_id  block_id  \\\n",
       "41099  09/13/2015  673691.0  106330.0   \n",
       "\n",
       "                                           the_geom  tree_dbh  stump_diam  \\\n",
       "41099  POINT (-73.97538799678885 40.77940498870209)      23.0           0   \n",
       "\n",
       "      curb_loc status health         spc_latin  ... st_assem st_senate   nta  \\\n",
       "41099   OnCurb  Alive   Good  Pyrus calleryana  ...     67.0      29.0  MN12   \n",
       "\n",
       "              nta_name    boro_ct     state   Latitude  longitude  \\\n",
       "41099  Upper West Side  1016100.0  New York  40.779405 -73.975388   \n",
       "\n",
       "              x_sp         y_sp  \n",
       "41099  991066.3082  223236.0519  \n",
       "\n",
       "[1 rows x 42 columns]"
      ]
     },
     "execution_count": 28,
     "metadata": {},
     "output_type": "execute_result"
    }
   ],
   "source": [
    "# Import data abd show one observation\n",
    "df = pd.read_csv('../Data Cleaning Pandas/Data/NewYorkTreesHealthCensus.csv')\n",
    "df.sample()"
   ]
  },
  {
   "cell_type": "markdown",
   "metadata": {},
   "source": [
    "## Explore the dataframe"
   ]
  },
  {
   "cell_type": "code",
   "execution_count": 30,
   "metadata": {},
   "outputs": [
    {
     "name": "stdout",
     "output_type": "stream",
     "text": [
      "<class 'pandas.core.frame.DataFrame'>\n",
      "RangeIndex: 50000 entries, 0 to 49999\n",
      "Data columns (total 42 columns):\n",
      " #   Column      Non-Null Count  Dtype  \n",
      "---  ------      --------------  -----  \n",
      " 0   created_at  50000 non-null  object \n",
      " 1   tree_id     49873 non-null  float64\n",
      " 2   block_id    49967 non-null  float64\n",
      " 3   the_geom    50000 non-null  object \n",
      " 4   tree_dbh    49895 non-null  float64\n",
      " 5   stump_diam  50000 non-null  int64  \n",
      " 6   curb_loc    50000 non-null  object \n",
      " 7   status      49674 non-null  object \n",
      " 8   health      47732 non-null  object \n",
      " 9   spc_latin   47732 non-null  object \n",
      " 10  spc_common  47732 non-null  object \n",
      " 11  steward     10715 non-null  object \n",
      " 12  guards      4953 non-null   object \n",
      " 13  sidewalk    47732 non-null  object \n",
      " 14  user_type   50000 non-null  object \n",
      " 15  problems    15603 non-null  object \n",
      " 16  root_stone  50000 non-null  object \n",
      " 17  root_grate  50000 non-null  object \n",
      " 18  root_other  50000 non-null  object \n",
      " 19  trnk_wire   50000 non-null  object \n",
      " 20  trnk_light  50000 non-null  object \n",
      " 21  trnk_other  50000 non-null  object \n",
      " 22  brnch_ligh  50000 non-null  object \n",
      " 23  brnch_shoe  50000 non-null  object \n",
      " 24  brnch_othe  50000 non-null  object \n",
      " 25  address     50000 non-null  object \n",
      " 26  zipcode     50000 non-null  int64  \n",
      " 27  zip_city    50000 non-null  object \n",
      " 28  cb_num      50000 non-null  float64\n",
      " 29  borocode    50000 non-null  float64\n",
      " 30  boroname    49976 non-null  object \n",
      " 31  cncldist    50000 non-null  float64\n",
      " 32  st_assem    50000 non-null  float64\n",
      " 33  st_senate   50000 non-null  float64\n",
      " 34  nta         50000 non-null  object \n",
      " 35  nta_name    50000 non-null  object \n",
      " 36  boro_ct     50000 non-null  float64\n",
      " 37  state       50000 non-null  object \n",
      " 38  Latitude    50000 non-null  float64\n",
      " 39  longitude   50000 non-null  float64\n",
      " 40  x_sp        50000 non-null  float64\n",
      " 41  y_sp        50000 non-null  float64\n",
      "dtypes: float64(13), int64(2), object(27)\n",
      "memory usage: 16.0+ MB\n"
     ]
    }
   ],
   "source": [
    "# View structure of dataframe\n",
    "df.info()"
   ]
  },
  {
   "cell_type": "code",
   "execution_count": 32,
   "metadata": {},
   "outputs": [
    {
     "name": "stdout",
     "output_type": "stream",
     "text": [
      "Dimension of data :  (50000, 42)\n",
      "Dataframe type :  <class 'pandas.core.frame.DataFrame'>\n"
     ]
    }
   ],
   "source": [
    "# Structure \n",
    "print('Dimension of data : ', df.shape)\n",
    "print('Dataframe type : ', type(df))"
   ]
  },
  {
   "cell_type": "markdown",
   "metadata": {},
   "source": [
    "### Subset Data\n",
    "This is a large dataset, lets subset the data by randomly selecting 5000 observations. "
   ]
  },
  {
   "cell_type": "code",
   "execution_count": 33,
   "metadata": {},
   "outputs": [
    {
     "data": {
      "text/plain": [
       "(2000, 42)"
      ]
     },
     "execution_count": 33,
     "metadata": {},
     "output_type": "execute_result"
    }
   ],
   "source": [
    "# Select 5000 random rows\n",
    "\n",
    "subset = df.sample(n=2000)\n",
    "subset.shape"
   ]
  },
  {
   "cell_type": "markdown",
   "metadata": {},
   "source": [
    "### Drop Columns."
   ]
  },
  {
   "cell_type": "code",
   "execution_count": 34,
   "metadata": {},
   "outputs": [
    {
     "data": {
      "text/plain": [
       "created_at     object\n",
       "tree_id       float64\n",
       "block_id      float64\n",
       "the_geom       object\n",
       "tree_dbh      float64\n",
       "stump_diam      int64\n",
       "curb_loc       object\n",
       "status         object\n",
       "health         object\n",
       "spc_latin      object\n",
       "spc_common     object\n",
       "steward        object\n",
       "guards         object\n",
       "sidewalk       object\n",
       "user_type      object\n",
       "problems       object\n",
       "root_stone     object\n",
       "root_grate     object\n",
       "root_other     object\n",
       "trnk_wire      object\n",
       "trnk_light     object\n",
       "trnk_other     object\n",
       "brnch_ligh     object\n",
       "brnch_shoe     object\n",
       "brnch_othe     object\n",
       "address        object\n",
       "zipcode         int64\n",
       "zip_city       object\n",
       "cb_num        float64\n",
       "borocode      float64\n",
       "boroname       object\n",
       "cncldist      float64\n",
       "st_assem      float64\n",
       "st_senate     float64\n",
       "nta            object\n",
       "nta_name       object\n",
       "boro_ct       float64\n",
       "state          object\n",
       "Latitude      float64\n",
       "longitude     float64\n",
       "x_sp          float64\n",
       "y_sp          float64\n",
       "dtype: object"
      ]
     },
     "execution_count": 34,
     "metadata": {},
     "output_type": "execute_result"
    }
   ],
   "source": [
    "# Column data types\n",
    "subset.dtypes"
   ]
  },
  {
   "cell_type": "code",
   "execution_count": 35,
   "metadata": {},
   "outputs": [
    {
     "data": {
      "text/plain": [
       "array(['created_at', 'tree_id', 'block_id', 'the_geom', 'tree_dbh',\n",
       "       'stump_diam', 'curb_loc', 'status', 'health', 'spc_latin',\n",
       "       'spc_common', 'steward', 'guards', 'sidewalk', 'user_type',\n",
       "       'problems', 'root_stone', 'root_grate', 'root_other', 'trnk_wire',\n",
       "       'trnk_light', 'trnk_other', 'brnch_ligh', 'brnch_shoe',\n",
       "       'brnch_othe', 'address', 'zipcode', 'zip_city', 'cb_num',\n",
       "       'borocode', 'boroname', 'cncldist', 'st_assem', 'st_senate', 'nta',\n",
       "       'nta_name', 'boro_ct', 'state', 'Latitude', 'longitude', 'x_sp',\n",
       "       'y_sp'], dtype=object)"
      ]
     },
     "execution_count": 35,
     "metadata": {},
     "output_type": "execute_result"
    }
   ],
   "source": [
    "# Print column names\n",
    "subset.columns.values"
   ]
  },
  {
   "cell_type": "code",
   "execution_count": 36,
   "metadata": {},
   "outputs": [
    {
     "data": {
      "text/html": [
       "<div>\n",
       "<style scoped>\n",
       "    .dataframe tbody tr th:only-of-type {\n",
       "        vertical-align: middle;\n",
       "    }\n",
       "\n",
       "    .dataframe tbody tr th {\n",
       "        vertical-align: top;\n",
       "    }\n",
       "\n",
       "    .dataframe thead th {\n",
       "        text-align: right;\n",
       "    }\n",
       "</style>\n",
       "<table border=\"1\" class=\"dataframe\">\n",
       "  <thead>\n",
       "    <tr style=\"text-align: right;\">\n",
       "      <th></th>\n",
       "      <th>tree_id</th>\n",
       "      <th>block_id</th>\n",
       "      <th>tree_dbh</th>\n",
       "      <th>stump_diam</th>\n",
       "      <th>zipcode</th>\n",
       "      <th>cb_num</th>\n",
       "      <th>borocode</th>\n",
       "      <th>cncldist</th>\n",
       "      <th>st_assem</th>\n",
       "      <th>st_senate</th>\n",
       "      <th>boro_ct</th>\n",
       "      <th>Latitude</th>\n",
       "      <th>longitude</th>\n",
       "      <th>x_sp</th>\n",
       "      <th>y_sp</th>\n",
       "    </tr>\n",
       "  </thead>\n",
       "  <tbody>\n",
       "    <tr>\n",
       "      <th>count</th>\n",
       "      <td>1997.000000</td>\n",
       "      <td>1999.000000</td>\n",
       "      <td>1998.000000</td>\n",
       "      <td>2000.000000</td>\n",
       "      <td>2000.000000</td>\n",
       "      <td>2000.000000</td>\n",
       "      <td>2000.000000</td>\n",
       "      <td>2000.000000</td>\n",
       "      <td>2000.000000</td>\n",
       "      <td>2000.000000</td>\n",
       "      <td>2.000000e+03</td>\n",
       "      <td>2000.000000</td>\n",
       "      <td>2000.000000</td>\n",
       "      <td>2.000000e+03</td>\n",
       "      <td>2000.000000</td>\n",
       "    </tr>\n",
       "    <tr>\n",
       "      <th>mean</th>\n",
       "      <td>440238.079119</td>\n",
       "      <td>326679.805903</td>\n",
       "      <td>12.129630</td>\n",
       "      <td>0.418000</td>\n",
       "      <td>10933.788000</td>\n",
       "      <td>351.737000</td>\n",
       "      <td>3.438500</td>\n",
       "      <td>30.553000</td>\n",
       "      <td>50.819500</td>\n",
       "      <td>20.410500</td>\n",
       "      <td>3.488132e+06</td>\n",
       "      <td>40.700139</td>\n",
       "      <td>-73.918801</td>\n",
       "      <td>1.006735e+06</td>\n",
       "      <td>194393.167993</td>\n",
       "    </tr>\n",
       "    <tr>\n",
       "      <th>std</th>\n",
       "      <td>152124.100189</td>\n",
       "      <td>112448.476654</td>\n",
       "      <td>10.010446</td>\n",
       "      <td>3.316893</td>\n",
       "      <td>556.715241</td>\n",
       "      <td>111.511323</td>\n",
       "      <td>1.126433</td>\n",
       "      <td>14.202044</td>\n",
       "      <td>19.508619</td>\n",
       "      <td>7.572824</td>\n",
       "      <td>1.133772e+06</td>\n",
       "      <td>0.091785</td>\n",
       "      <td>0.129656</td>\n",
       "      <td>3.596806e+04</td>\n",
       "      <td>33440.642827</td>\n",
       "    </tr>\n",
       "    <tr>\n",
       "      <th>min</th>\n",
       "      <td>2186.000000</td>\n",
       "      <td>100199.000000</td>\n",
       "      <td>0.000000</td>\n",
       "      <td>0.000000</td>\n",
       "      <td>83.000000</td>\n",
       "      <td>101.000000</td>\n",
       "      <td>1.000000</td>\n",
       "      <td>1.000000</td>\n",
       "      <td>23.000000</td>\n",
       "      <td>10.000000</td>\n",
       "      <td>1.000202e+06</td>\n",
       "      <td>40.500251</td>\n",
       "      <td>-74.251432</td>\n",
       "      <td>9.143326e+05</td>\n",
       "      <td>121624.543500</td>\n",
       "    </tr>\n",
       "    <tr>\n",
       "      <th>25%</th>\n",
       "      <td>309614.000000</td>\n",
       "      <td>226225.500000</td>\n",
       "      <td>5.000000</td>\n",
       "      <td>0.000000</td>\n",
       "      <td>10453.000000</td>\n",
       "      <td>305.000000</td>\n",
       "      <td>3.000000</td>\n",
       "      <td>19.000000</td>\n",
       "      <td>32.000000</td>\n",
       "      <td>14.000000</td>\n",
       "      <td>3.019075e+06</td>\n",
       "      <td>40.626958</td>\n",
       "      <td>-73.980014</td>\n",
       "      <td>9.897910e+05</td>\n",
       "      <td>167715.958525</td>\n",
       "    </tr>\n",
       "    <tr>\n",
       "      <th>50%</th>\n",
       "      <td>442352.000000</td>\n",
       "      <td>324531.000000</td>\n",
       "      <td>10.000000</td>\n",
       "      <td>0.000000</td>\n",
       "      <td>11214.000000</td>\n",
       "      <td>404.000000</td>\n",
       "      <td>4.000000</td>\n",
       "      <td>29.000000</td>\n",
       "      <td>51.000000</td>\n",
       "      <td>20.000000</td>\n",
       "      <td>4.019400e+06</td>\n",
       "      <td>40.697728</td>\n",
       "      <td>-73.901948</td>\n",
       "      <td>1.011416e+06</td>\n",
       "      <td>193499.854350</td>\n",
       "    </tr>\n",
       "    <tr>\n",
       "      <th>75%</th>\n",
       "      <td>572452.000000</td>\n",
       "      <td>407574.500000</td>\n",
       "      <td>17.000000</td>\n",
       "      <td>0.000000</td>\n",
       "      <td>11365.000000</td>\n",
       "      <td>413.000000</td>\n",
       "      <td>4.000000</td>\n",
       "      <td>44.250000</td>\n",
       "      <td>63.000000</td>\n",
       "      <td>24.000000</td>\n",
       "      <td>4.121500e+06</td>\n",
       "      <td>40.762543</td>\n",
       "      <td>-73.822190</td>\n",
       "      <td>1.033494e+06</td>\n",
       "      <td>217125.745650</td>\n",
       "    </tr>\n",
       "    <tr>\n",
       "      <th>max</th>\n",
       "      <td>722005.000000</td>\n",
       "      <td>602575.000000</td>\n",
       "      <td>204.000000</td>\n",
       "      <td>86.000000</td>\n",
       "      <td>11694.000000</td>\n",
       "      <td>503.000000</td>\n",
       "      <td>5.000000</td>\n",
       "      <td>51.000000</td>\n",
       "      <td>87.000000</td>\n",
       "      <td>36.000000</td>\n",
       "      <td>5.031902e+06</td>\n",
       "      <td>40.909467</td>\n",
       "      <td>-73.701932</td>\n",
       "      <td>1.066836e+06</td>\n",
       "      <td>270636.992900</td>\n",
       "    </tr>\n",
       "  </tbody>\n",
       "</table>\n",
       "</div>"
      ],
      "text/plain": [
       "             tree_id       block_id     tree_dbh   stump_diam       zipcode  \\\n",
       "count    1997.000000    1999.000000  1998.000000  2000.000000   2000.000000   \n",
       "mean   440238.079119  326679.805903    12.129630     0.418000  10933.788000   \n",
       "std    152124.100189  112448.476654    10.010446     3.316893    556.715241   \n",
       "min      2186.000000  100199.000000     0.000000     0.000000     83.000000   \n",
       "25%    309614.000000  226225.500000     5.000000     0.000000  10453.000000   \n",
       "50%    442352.000000  324531.000000    10.000000     0.000000  11214.000000   \n",
       "75%    572452.000000  407574.500000    17.000000     0.000000  11365.000000   \n",
       "max    722005.000000  602575.000000   204.000000    86.000000  11694.000000   \n",
       "\n",
       "            cb_num     borocode     cncldist     st_assem    st_senate  \\\n",
       "count  2000.000000  2000.000000  2000.000000  2000.000000  2000.000000   \n",
       "mean    351.737000     3.438500    30.553000    50.819500    20.410500   \n",
       "std     111.511323     1.126433    14.202044    19.508619     7.572824   \n",
       "min     101.000000     1.000000     1.000000    23.000000    10.000000   \n",
       "25%     305.000000     3.000000    19.000000    32.000000    14.000000   \n",
       "50%     404.000000     4.000000    29.000000    51.000000    20.000000   \n",
       "75%     413.000000     4.000000    44.250000    63.000000    24.000000   \n",
       "max     503.000000     5.000000    51.000000    87.000000    36.000000   \n",
       "\n",
       "            boro_ct     Latitude    longitude          x_sp           y_sp  \n",
       "count  2.000000e+03  2000.000000  2000.000000  2.000000e+03    2000.000000  \n",
       "mean   3.488132e+06    40.700139   -73.918801  1.006735e+06  194393.167993  \n",
       "std    1.133772e+06     0.091785     0.129656  3.596806e+04   33440.642827  \n",
       "min    1.000202e+06    40.500251   -74.251432  9.143326e+05  121624.543500  \n",
       "25%    3.019075e+06    40.626958   -73.980014  9.897910e+05  167715.958525  \n",
       "50%    4.019400e+06    40.697728   -73.901948  1.011416e+06  193499.854350  \n",
       "75%    4.121500e+06    40.762543   -73.822190  1.033494e+06  217125.745650  \n",
       "max    5.031902e+06    40.909467   -73.701932  1.066836e+06  270636.992900  "
      ]
     },
     "execution_count": 36,
     "metadata": {},
     "output_type": "execute_result"
    }
   ],
   "source": [
    "# Check columns of integer values\n",
    "subset.describe()"
   ]
  },
  {
   "cell_type": "code",
   "execution_count": 45,
   "metadata": {},
   "outputs": [
    {
     "data": {
      "text/plain": [
       "array(['created_at', 'tree_id', 'tree_dbh', 'status', 'address',\n",
       "       'boroname', 'Latitude', 'longitude'], dtype=object)"
      ]
     },
     "execution_count": 45,
     "metadata": {},
     "output_type": "execute_result"
    }
   ],
   "source": [
    "# Select few columns \n",
    "df2 = subset[['created_at','tree_id','tree_dbh','status','address','boroname','Latitude', 'longitude']]\n",
    "df2.columns.values"
   ]
  },
  {
   "cell_type": "code",
   "execution_count": 46,
   "metadata": {},
   "outputs": [
    {
     "data": {
      "text/html": [
       "<div>\n",
       "<style scoped>\n",
       "    .dataframe tbody tr th:only-of-type {\n",
       "        vertical-align: middle;\n",
       "    }\n",
       "\n",
       "    .dataframe tbody tr th {\n",
       "        vertical-align: top;\n",
       "    }\n",
       "\n",
       "    .dataframe thead th {\n",
       "        text-align: right;\n",
       "    }\n",
       "</style>\n",
       "<table border=\"1\" class=\"dataframe\">\n",
       "  <thead>\n",
       "    <tr style=\"text-align: right;\">\n",
       "      <th></th>\n",
       "      <th>created_at</th>\n",
       "      <th>tree_id</th>\n",
       "      <th>tree_dbh</th>\n",
       "      <th>status</th>\n",
       "      <th>address</th>\n",
       "      <th>boroname</th>\n",
       "      <th>Latitude</th>\n",
       "      <th>longitude</th>\n",
       "    </tr>\n",
       "  </thead>\n",
       "  <tbody>\n",
       "    <tr>\n",
       "      <th>245</th>\n",
       "      <td>08/20/2016</td>\n",
       "      <td>174207.0</td>\n",
       "      <td>13.0</td>\n",
       "      <td>Alive</td>\n",
       "      <td>212-004 35 AVENUE</td>\n",
       "      <td>Queens</td>\n",
       "      <td>40.768590</td>\n",
       "      <td>-73.775336</td>\n",
       "    </tr>\n",
       "    <tr>\n",
       "      <th>14784</th>\n",
       "      <td>12/02/2015</td>\n",
       "      <td>389038.0</td>\n",
       "      <td>1.0</td>\n",
       "      <td>Alive</td>\n",
       "      <td>257 PORTAGE AVENUE</td>\n",
       "      <td>Staten Island</td>\n",
       "      <td>40.600275</td>\n",
       "      <td>-74.129795</td>\n",
       "    </tr>\n",
       "    <tr>\n",
       "      <th>30153</th>\n",
       "      <td>10/11/2015</td>\n",
       "      <td>588117.0</td>\n",
       "      <td>12.0</td>\n",
       "      <td>Alive</td>\n",
       "      <td>280 COLUMBUS AVENUE</td>\n",
       "      <td>Manhattan</td>\n",
       "      <td>40.778280</td>\n",
       "      <td>-73.978282</td>\n",
       "    </tr>\n",
       "    <tr>\n",
       "      <th>24030</th>\n",
       "      <td>07/28/2016</td>\n",
       "      <td>259966.0</td>\n",
       "      <td>8.0</td>\n",
       "      <td>Alive</td>\n",
       "      <td>264-023 60 ROAD</td>\n",
       "      <td>Queens</td>\n",
       "      <td>40.760671</td>\n",
       "      <td>-73.717193</td>\n",
       "    </tr>\n",
       "    <tr>\n",
       "      <th>42284</th>\n",
       "      <td>10/13/2015</td>\n",
       "      <td>581534.0</td>\n",
       "      <td>15.0</td>\n",
       "      <td>Alive</td>\n",
       "      <td>1555 GRAND CONCOURSE</td>\n",
       "      <td>Bronx</td>\n",
       "      <td>40.842430</td>\n",
       "      <td>-73.912655</td>\n",
       "    </tr>\n",
       "  </tbody>\n",
       "</table>\n",
       "</div>"
      ],
      "text/plain": [
       "       created_at   tree_id  tree_dbh status               address  \\\n",
       "245    08/20/2016  174207.0      13.0  Alive     212-004 35 AVENUE   \n",
       "14784  12/02/2015  389038.0       1.0  Alive    257 PORTAGE AVENUE   \n",
       "30153  10/11/2015  588117.0      12.0  Alive   280 COLUMBUS AVENUE   \n",
       "24030  07/28/2016  259966.0       8.0  Alive       264-023 60 ROAD   \n",
       "42284  10/13/2015  581534.0      15.0  Alive  1555 GRAND CONCOURSE   \n",
       "\n",
       "            boroname   Latitude  longitude  \n",
       "245           Queens  40.768590 -73.775336  \n",
       "14784  Staten Island  40.600275 -74.129795  \n",
       "30153      Manhattan  40.778280 -73.978282  \n",
       "24030         Queens  40.760671 -73.717193  \n",
       "42284          Bronx  40.842430 -73.912655  "
      ]
     },
     "execution_count": 46,
     "metadata": {},
     "output_type": "execute_result"
    }
   ],
   "source": [
    "# Check the first 5 observations\n",
    "df2.head()"
   ]
  },
  {
   "cell_type": "code",
   "execution_count": 55,
   "metadata": {},
   "outputs": [
    {
     "data": {
      "text/plain": [
       "2000"
      ]
     },
     "execution_count": 55,
     "metadata": {},
     "output_type": "execute_result"
    }
   ],
   "source": [
    "# Check the first 5 observations\n",
    "df2.tail()\n",
    "len(df2)"
   ]
  },
  {
   "cell_type": "markdown",
   "metadata": {},
   "source": [
    "## Duplicate Values.\n",
    "\n",
    "These are rows that have exactly the same values across all columns. Since the tree_id uniqely identifies each tree, we will count values in this column."
   ]
  },
  {
   "cell_type": "code",
   "execution_count": 52,
   "metadata": {},
   "outputs": [
    {
     "data": {
      "text/plain": [
       "2"
      ]
     },
     "execution_count": 52,
     "metadata": {},
     "output_type": "execute_result"
    }
   ],
   "source": [
    "duplicates = len(df2['tree_id'])-len(df2['tree_id'].drop_duplicates())\n",
    "duplicates"
   ]
  },
  {
   "cell_type": "markdown",
   "metadata": {},
   "source": [
    "Remove duplicates "
   ]
  },
  {
   "cell_type": "code",
   "execution_count": 56,
   "metadata": {},
   "outputs": [
    {
     "name": "stderr",
     "output_type": "stream",
     "text": [
      "C:\\Users\\Admin\\AppData\\Local\\Temp\\ipykernel_6604\\3704577207.py:1: SettingWithCopyWarning: \n",
      "A value is trying to be set on a copy of a slice from a DataFrame\n",
      "\n",
      "See the caveats in the documentation: https://pandas.pydata.org/pandas-docs/stable/user_guide/indexing.html#returning-a-view-versus-a-copy\n",
      "  df3 = df2.drop_duplicates(subset=\"tree_id\", keep=False, inplace=True)\n"
     ]
    },
    {
     "data": {
      "text/plain": [
       "1997"
      ]
     },
     "execution_count": 56,
     "metadata": {},
     "output_type": "execute_result"
    }
   ],
   "source": [
    "df3 = df2.drop_duplicates(subset=\"tree_id\", keep=False, inplace=True)\n",
    "\n",
    "# Check if duplicate values have been removed \n",
    "len(df2)"
   ]
  },
  {
   "cell_type": "markdown",
   "metadata": {},
   "source": [
    "### Split Columns.\n",
    "\n",
    "The address, 23-091 29 STREET, column consists of house number as 23-091 and street name as 29 Street. Lets split these and place each in its own column. "
   ]
  },
  {
   "cell_type": "code",
   "execution_count": 57,
   "metadata": {},
   "outputs": [
    {
     "name": "stdout",
     "output_type": "stream",
     "text": [
      "created_at    False\n",
      "tree_id       False\n",
      "tree_dbh       True\n",
      "status         True\n",
      "address       False\n",
      "boroname      False\n",
      "Latitude      False\n",
      "longitude     False\n",
      "dtype: bool\n"
     ]
    }
   ],
   "source": [
    "# Check if any column contains a muissing value\n",
    "print(df2.isnull().any())"
   ]
  },
  {
   "cell_type": "code",
   "execution_count": 58,
   "metadata": {},
   "outputs": [
    {
     "data": {
      "text/html": [
       "<div>\n",
       "<style scoped>\n",
       "    .dataframe tbody tr th:only-of-type {\n",
       "        vertical-align: middle;\n",
       "    }\n",
       "\n",
       "    .dataframe tbody tr th {\n",
       "        vertical-align: top;\n",
       "    }\n",
       "\n",
       "    .dataframe thead th {\n",
       "        text-align: right;\n",
       "    }\n",
       "</style>\n",
       "<table border=\"1\" class=\"dataframe\">\n",
       "  <thead>\n",
       "    <tr style=\"text-align: right;\">\n",
       "      <th></th>\n",
       "      <th>created_at</th>\n",
       "      <th>tree_id</th>\n",
       "      <th>tree_dbh</th>\n",
       "      <th>status</th>\n",
       "      <th>address</th>\n",
       "      <th>boroname</th>\n",
       "      <th>Latitude</th>\n",
       "      <th>longitude</th>\n",
       "    </tr>\n",
       "  </thead>\n",
       "  <tbody>\n",
       "    <tr>\n",
       "      <th>245</th>\n",
       "      <td>08/20/2016</td>\n",
       "      <td>174207.0</td>\n",
       "      <td>13.0</td>\n",
       "      <td>Alive</td>\n",
       "      <td>212-004 35 AVENUE</td>\n",
       "      <td>Queens</td>\n",
       "      <td>40.768590</td>\n",
       "      <td>-73.775336</td>\n",
       "    </tr>\n",
       "    <tr>\n",
       "      <th>14784</th>\n",
       "      <td>12/02/2015</td>\n",
       "      <td>389038.0</td>\n",
       "      <td>1.0</td>\n",
       "      <td>Alive</td>\n",
       "      <td>257 PORTAGE AVENUE</td>\n",
       "      <td>Staten Island</td>\n",
       "      <td>40.600275</td>\n",
       "      <td>-74.129795</td>\n",
       "    </tr>\n",
       "    <tr>\n",
       "      <th>30153</th>\n",
       "      <td>10/11/2015</td>\n",
       "      <td>588117.0</td>\n",
       "      <td>12.0</td>\n",
       "      <td>Alive</td>\n",
       "      <td>280 COLUMBUS AVENUE</td>\n",
       "      <td>Manhattan</td>\n",
       "      <td>40.778280</td>\n",
       "      <td>-73.978282</td>\n",
       "    </tr>\n",
       "    <tr>\n",
       "      <th>24030</th>\n",
       "      <td>07/28/2016</td>\n",
       "      <td>259966.0</td>\n",
       "      <td>8.0</td>\n",
       "      <td>Alive</td>\n",
       "      <td>264-023 60 ROAD</td>\n",
       "      <td>Queens</td>\n",
       "      <td>40.760671</td>\n",
       "      <td>-73.717193</td>\n",
       "    </tr>\n",
       "    <tr>\n",
       "      <th>42284</th>\n",
       "      <td>10/13/2015</td>\n",
       "      <td>581534.0</td>\n",
       "      <td>15.0</td>\n",
       "      <td>Alive</td>\n",
       "      <td>1555 GRAND CONCOURSE</td>\n",
       "      <td>Bronx</td>\n",
       "      <td>40.842430</td>\n",
       "      <td>-73.912655</td>\n",
       "    </tr>\n",
       "    <tr>\n",
       "      <th>...</th>\n",
       "      <td>...</td>\n",
       "      <td>...</td>\n",
       "      <td>...</td>\n",
       "      <td>...</td>\n",
       "      <td>...</td>\n",
       "      <td>...</td>\n",
       "      <td>...</td>\n",
       "      <td>...</td>\n",
       "    </tr>\n",
       "    <tr>\n",
       "      <th>39727</th>\n",
       "      <td>11/05/2015</td>\n",
       "      <td>456270.0</td>\n",
       "      <td>2.0</td>\n",
       "      <td>Alive</td>\n",
       "      <td>10518 AVENUE L</td>\n",
       "      <td>Brooklyn</td>\n",
       "      <td>40.642868</td>\n",
       "      <td>-73.888645</td>\n",
       "    </tr>\n",
       "    <tr>\n",
       "      <th>24421</th>\n",
       "      <td>10/26/2015</td>\n",
       "      <td>522935.0</td>\n",
       "      <td>2.0</td>\n",
       "      <td>Alive</td>\n",
       "      <td>2030 EAST 16 STREET</td>\n",
       "      <td>Brooklyn</td>\n",
       "      <td>40.600392</td>\n",
       "      <td>-73.955820</td>\n",
       "    </tr>\n",
       "    <tr>\n",
       "      <th>12864</th>\n",
       "      <td>08/26/2016</td>\n",
       "      <td>223797.0</td>\n",
       "      <td>20.0</td>\n",
       "      <td>Alive</td>\n",
       "      <td>151 BAINBRIDGE STREET</td>\n",
       "      <td>Brooklyn</td>\n",
       "      <td>40.681026</td>\n",
       "      <td>-73.930970</td>\n",
       "    </tr>\n",
       "    <tr>\n",
       "      <th>21762</th>\n",
       "      <td>07/14/2016</td>\n",
       "      <td>274657.0</td>\n",
       "      <td>10.0</td>\n",
       "      <td>Alive</td>\n",
       "      <td>114-053 178 STREET</td>\n",
       "      <td>Queens</td>\n",
       "      <td>40.693588</td>\n",
       "      <td>-73.771382</td>\n",
       "    </tr>\n",
       "    <tr>\n",
       "      <th>20332</th>\n",
       "      <td>10/10/2015</td>\n",
       "      <td>523073.0</td>\n",
       "      <td>3.0</td>\n",
       "      <td>Alive</td>\n",
       "      <td>359 SOUTH 5 STREET</td>\n",
       "      <td>Brooklyn</td>\n",
       "      <td>40.708046</td>\n",
       "      <td>-73.954350</td>\n",
       "    </tr>\n",
       "  </tbody>\n",
       "</table>\n",
       "<p>1997 rows × 8 columns</p>\n",
       "</div>"
      ],
      "text/plain": [
       "       created_at   tree_id  tree_dbh status                address  \\\n",
       "245    08/20/2016  174207.0      13.0  Alive      212-004 35 AVENUE   \n",
       "14784  12/02/2015  389038.0       1.0  Alive     257 PORTAGE AVENUE   \n",
       "30153  10/11/2015  588117.0      12.0  Alive    280 COLUMBUS AVENUE   \n",
       "24030  07/28/2016  259966.0       8.0  Alive        264-023 60 ROAD   \n",
       "42284  10/13/2015  581534.0      15.0  Alive   1555 GRAND CONCOURSE   \n",
       "...           ...       ...       ...    ...                    ...   \n",
       "39727  11/05/2015  456270.0       2.0  Alive         10518 AVENUE L   \n",
       "24421  10/26/2015  522935.0       2.0  Alive    2030 EAST 16 STREET   \n",
       "12864  08/26/2016  223797.0      20.0  Alive  151 BAINBRIDGE STREET   \n",
       "21762  07/14/2016  274657.0      10.0  Alive     114-053 178 STREET   \n",
       "20332  10/10/2015  523073.0       3.0  Alive     359 SOUTH 5 STREET   \n",
       "\n",
       "            boroname   Latitude  longitude  \n",
       "245           Queens  40.768590 -73.775336  \n",
       "14784  Staten Island  40.600275 -74.129795  \n",
       "30153      Manhattan  40.778280 -73.978282  \n",
       "24030         Queens  40.760671 -73.717193  \n",
       "42284          Bronx  40.842430 -73.912655  \n",
       "...              ...        ...        ...  \n",
       "39727       Brooklyn  40.642868 -73.888645  \n",
       "24421       Brooklyn  40.600392 -73.955820  \n",
       "12864       Brooklyn  40.681026 -73.930970  \n",
       "21762         Queens  40.693588 -73.771382  \n",
       "20332       Brooklyn  40.708046 -73.954350  \n",
       "\n",
       "[1997 rows x 8 columns]"
      ]
     },
     "execution_count": 58,
     "metadata": {},
     "output_type": "execute_result"
    }
   ],
   "source": [
    "df2"
   ]
  },
  {
   "cell_type": "code",
   "execution_count": 59,
   "metadata": {},
   "outputs": [
    {
     "data": {
      "text/plain": [
       "245          [212-004, 35, AVENUE]\n",
       "14784       [257, PORTAGE, AVENUE]\n",
       "30153      [280, COLUMBUS, AVENUE]\n",
       "24030          [264-023, 60, ROAD]\n",
       "42284     [1555, GRAND, CONCOURSE]\n",
       "                   ...            \n",
       "39727           [10518, AVENUE, L]\n",
       "24421     [2030, EAST, 16, STREET]\n",
       "12864    [151, BAINBRIDGE, STREET]\n",
       "21762       [114-053, 178, STREET]\n",
       "20332      [359, SOUTH, 5, STREET]\n",
       "Name: address, Length: 1997, dtype: object"
      ]
     },
     "execution_count": 59,
     "metadata": {},
     "output_type": "execute_result"
    }
   ],
   "source": [
    "# Split the address column\n",
    "df2[\"address\"].str.split()"
   ]
  },
  {
   "cell_type": "code",
   "execution_count": 65,
   "metadata": {},
   "outputs": [
    {
     "data": {
      "text/plain": [
       "245          [212-004, 35 AVENUE]\n",
       "14784       [257, PORTAGE AVENUE]\n",
       "30153      [280, COLUMBUS AVENUE]\n",
       "24030          [264-023, 60 ROAD]\n",
       "42284     [1555, GRAND CONCOURSE]\n",
       "                   ...           \n",
       "39727           [10518, AVENUE L]\n",
       "24421      [2030, EAST 16 STREET]\n",
       "12864    [151, BAINBRIDGE STREET]\n",
       "21762       [114-053, 178 STREET]\n",
       "20332       [359, SOUTH 5 STREET]\n",
       "Name: address, Length: 1997, dtype: object"
      ]
     },
     "execution_count": 65,
     "metadata": {},
     "output_type": "execute_result"
    }
   ],
   "source": [
    "# Split on the first space delimiter \n",
    "df2[\"address\"].str.split(\" \", n=1)"
   ]
  },
  {
   "cell_type": "code",
   "execution_count": 66,
   "metadata": {},
   "outputs": [
    {
     "data": {
      "text/html": [
       "<div>\n",
       "<style scoped>\n",
       "    .dataframe tbody tr th:only-of-type {\n",
       "        vertical-align: middle;\n",
       "    }\n",
       "\n",
       "    .dataframe tbody tr th {\n",
       "        vertical-align: top;\n",
       "    }\n",
       "\n",
       "    .dataframe thead th {\n",
       "        text-align: right;\n",
       "    }\n",
       "</style>\n",
       "<table border=\"1\" class=\"dataframe\">\n",
       "  <thead>\n",
       "    <tr style=\"text-align: right;\">\n",
       "      <th></th>\n",
       "      <th>0</th>\n",
       "      <th>1</th>\n",
       "    </tr>\n",
       "  </thead>\n",
       "  <tbody>\n",
       "    <tr>\n",
       "      <th>245</th>\n",
       "      <td>212-004</td>\n",
       "      <td>35 AVENUE</td>\n",
       "    </tr>\n",
       "    <tr>\n",
       "      <th>14784</th>\n",
       "      <td>257</td>\n",
       "      <td>PORTAGE AVENUE</td>\n",
       "    </tr>\n",
       "    <tr>\n",
       "      <th>30153</th>\n",
       "      <td>280</td>\n",
       "      <td>COLUMBUS AVENUE</td>\n",
       "    </tr>\n",
       "    <tr>\n",
       "      <th>24030</th>\n",
       "      <td>264-023</td>\n",
       "      <td>60 ROAD</td>\n",
       "    </tr>\n",
       "    <tr>\n",
       "      <th>42284</th>\n",
       "      <td>1555</td>\n",
       "      <td>GRAND CONCOURSE</td>\n",
       "    </tr>\n",
       "    <tr>\n",
       "      <th>...</th>\n",
       "      <td>...</td>\n",
       "      <td>...</td>\n",
       "    </tr>\n",
       "    <tr>\n",
       "      <th>39727</th>\n",
       "      <td>10518</td>\n",
       "      <td>AVENUE L</td>\n",
       "    </tr>\n",
       "    <tr>\n",
       "      <th>24421</th>\n",
       "      <td>2030</td>\n",
       "      <td>EAST 16 STREET</td>\n",
       "    </tr>\n",
       "    <tr>\n",
       "      <th>12864</th>\n",
       "      <td>151</td>\n",
       "      <td>BAINBRIDGE STREET</td>\n",
       "    </tr>\n",
       "    <tr>\n",
       "      <th>21762</th>\n",
       "      <td>114-053</td>\n",
       "      <td>178 STREET</td>\n",
       "    </tr>\n",
       "    <tr>\n",
       "      <th>20332</th>\n",
       "      <td>359</td>\n",
       "      <td>SOUTH 5 STREET</td>\n",
       "    </tr>\n",
       "  </tbody>\n",
       "</table>\n",
       "<p>1997 rows × 2 columns</p>\n",
       "</div>"
      ],
      "text/plain": [
       "             0                  1\n",
       "245    212-004          35 AVENUE\n",
       "14784      257     PORTAGE AVENUE\n",
       "30153      280    COLUMBUS AVENUE\n",
       "24030  264-023            60 ROAD\n",
       "42284     1555    GRAND CONCOURSE\n",
       "...        ...                ...\n",
       "39727    10518           AVENUE L\n",
       "24421     2030     EAST 16 STREET\n",
       "12864      151  BAINBRIDGE STREET\n",
       "21762  114-053         178 STREET\n",
       "20332      359     SOUTH 5 STREET\n",
       "\n",
       "[1997 rows x 2 columns]"
      ]
     },
     "execution_count": 66,
     "metadata": {},
     "output_type": "execute_result"
    }
   ],
   "source": [
    "# Split and place each on its column \n",
    "df2[\"address\"].str.split(\" \", n=1, expand=True)"
   ]
  },
  {
   "cell_type": "code",
   "execution_count": null,
   "metadata": {},
   "outputs": [],
   "source": [
    "# Create a new dataframe with additional columns \n",
    "df = df2[\"address\"].str.split(\" \", n=1, expand=True)"
   ]
  }
 ],
 "metadata": {
  "kernelspec": {
   "display_name": "Python 3",
   "language": "python",
   "name": "python3"
  },
  "language_info": {
   "codemirror_mode": {
    "name": "ipython",
    "version": 3
   },
   "file_extension": ".py",
   "mimetype": "text/x-python",
   "name": "python",
   "nbconvert_exporter": "python",
   "pygments_lexer": "ipython3",
   "version": "3.12.2"
  }
 },
 "nbformat": 4,
 "nbformat_minor": 2
}
